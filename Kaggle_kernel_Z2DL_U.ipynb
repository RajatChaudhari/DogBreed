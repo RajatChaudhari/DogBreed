{
  "cells": [
    {
      "metadata": {
        "_uuid": "8f2839f25d086af736a60e9eeb907d3b93b6e0e5",
        "_cell_guid": "b1076dfc-b9ad-4769-8c92-a6c4dae69d19",
        "trusted": true
      },
      "cell_type": "code",
      "source": "import numpy as np # linear algebra\nimport pandas as pd # data processing, CSV file I/O (e.g. pd.read_csv)\n\nimport matplotlib.pyplot as plt\n%matplotlib inline\nimport cv2\nfrom tensorflow.python.keras.preprocessing.image import ImageDataGenerator\n# Input data files are available in the \"../input/\" directory.\n# For example, running this (by clicking run or pressing Shift+Enter) will list the files in the input directory\n\nimport os\nprint(os.listdir(\"../input\"))",
      "execution_count": 1,
      "outputs": [
        {
          "output_type": "stream",
          "text": "['labels.csv', 'train', 'test', 'sample_submission.csv']\n",
          "name": "stdout"
        }
      ]
    },
    {
      "metadata": {
        "_cell_guid": "79c7e3d0-c299-4dcb-8224-4455121ee9b0",
        "_uuid": "d629ff2d2480ee46fbb7e2d37f6b5fab8052498a",
        "trusted": true
      },
      "cell_type": "code",
      "source": "from os.path import join\nfrom sklearn.model_selection import train_test_split,StratifiedKFold\nfrom tensorflow.python import keras\nfrom tensorflow.python.keras.models import Sequential\nfrom tensorflow.python.keras.layers import Dense, Flatten, Conv2D, Dropout, BatchNormalization,MaxPool2D,AvgPool2D, Activation\nfrom tensorflow.python.keras.preprocessing.image import load_img, img_to_array\nfrom keras.callbacks import EarlyStopping",
      "execution_count": 2,
      "outputs": [
        {
          "output_type": "stream",
          "text": "Using TensorFlow backend.\n",
          "name": "stderr"
        }
      ]
    },
    {
      "metadata": {
        "trusted": true,
        "_uuid": "24e3f8aa612abaa5de4c34a160c28dde5b58283e"
      },
      "cell_type": "code",
      "source": "labels = pd.read_csv(\"../input/labels.csv\")\nlabels.head()",
      "execution_count": 3,
      "outputs": [
        {
          "output_type": "execute_result",
          "execution_count": 3,
          "data": {
            "text/plain": "                                 id             breed\n0  000bec180eb18c7604dcecc8fe0dba07       boston_bull\n1  001513dfcb2ffafc82cccf4d8bbaba97             dingo\n2  001cdf01b096e06d78e9e5112d419397          pekinese\n3  00214f311d5d2247d5dfe4fe24b2303d          bluetick\n4  0021f9ceb3235effd7fcde7f7538ed62  golden_retriever",
            "text/html": "<div>\n<style scoped>\n    .dataframe tbody tr th:only-of-type {\n        vertical-align: middle;\n    }\n\n    .dataframe tbody tr th {\n        vertical-align: top;\n    }\n\n    .dataframe thead th {\n        text-align: right;\n    }\n</style>\n<table border=\"1\" class=\"dataframe\">\n  <thead>\n    <tr style=\"text-align: right;\">\n      <th></th>\n      <th>id</th>\n      <th>breed</th>\n    </tr>\n  </thead>\n  <tbody>\n    <tr>\n      <th>0</th>\n      <td>000bec180eb18c7604dcecc8fe0dba07</td>\n      <td>boston_bull</td>\n    </tr>\n    <tr>\n      <th>1</th>\n      <td>001513dfcb2ffafc82cccf4d8bbaba97</td>\n      <td>dingo</td>\n    </tr>\n    <tr>\n      <th>2</th>\n      <td>001cdf01b096e06d78e9e5112d419397</td>\n      <td>pekinese</td>\n    </tr>\n    <tr>\n      <th>3</th>\n      <td>00214f311d5d2247d5dfe4fe24b2303d</td>\n      <td>bluetick</td>\n    </tr>\n    <tr>\n      <th>4</th>\n      <td>0021f9ceb3235effd7fcde7f7538ed62</td>\n      <td>golden_retriever</td>\n    </tr>\n  </tbody>\n</table>\n</div>"
          },
          "metadata": {}
        }
      ]
    },
    {
      "metadata": {
        "trusted": true,
        "_uuid": "396236e350043a9a07d138136ebb4191cd456c7e"
      },
      "cell_type": "code",
      "source": "#convert breed from categories to numbers\ndogs=labels.breed.unique()\n\nbreeds={}\n\nnum=0\nfor item in dogs:\n    breeds[item]=num\n    num+=1\n    \nlabels.breed=[breeds[item] for item in labels.breed]",
      "execution_count": 4,
      "outputs": []
    },
    {
      "metadata": {
        "trusted": true,
        "_uuid": "1b09f61454331bcf1067eb99ec3c45be39ed0f20"
      },
      "cell_type": "code",
      "source": "len(dogs)",
      "execution_count": 5,
      "outputs": [
        {
          "output_type": "execute_result",
          "execution_count": 5,
          "data": {
            "text/plain": "120"
          },
          "metadata": {}
        }
      ]
    },
    {
      "metadata": {
        "trusted": true,
        "_uuid": "8fc470a84e257d6bc175c2bf021c7bccfdec7e9f"
      },
      "cell_type": "code",
      "source": "img_paths = [join(\"../input/train/\", id+\".jpg\") for id in labels[\"id\"]]",
      "execution_count": 6,
      "outputs": []
    },
    {
      "metadata": {
        "trusted": true,
        "_uuid": "882ddb9dbb2024390c5e44e6584f5624de51b00d"
      },
      "cell_type": "code",
      "source": "#imgs = [load_img(img_path, target_size=(224, 224)) for img_path in img_paths]",
      "execution_count": 7,
      "outputs": []
    },
    {
      "metadata": {
        "trusted": true,
        "_uuid": "7b2e2e01b689d62e8b020bf1147d48e76efd21ea"
      },
      "cell_type": "code",
      "source": "#plt.imshow(imgs[1])",
      "execution_count": 9,
      "outputs": []
    },
    {
      "metadata": {
        "trusted": true,
        "_uuid": "2f4304d6030886b79885ed5d18e26bfa6c7a5614"
      },
      "cell_type": "code",
      "source": "",
      "execution_count": null,
      "outputs": []
    },
    {
      "metadata": {
        "trusted": true,
        "_uuid": "1b1989e98eb8dd3b7c9d79707bf60a646fd2fa1b"
      },
      "cell_type": "code",
      "source": "def read_and_prep_images(img_paths, img_height=224, img_width=224):\n    imgs = [load_img(img_path, target_size=(img_height, img_width),color_mode=\"grayscale\") for img_path in img_paths]\n    img_array = np.array([img_to_array(img)/255 for img in imgs])\n    return img_array",
      "execution_count": 10,
      "outputs": []
    },
    {
      "metadata": {
        "trusted": true,
        "_uuid": "bbca2a855233c08579f015233e704ce47db9e31c"
      },
      "cell_type": "code",
      "source": "train_data = read_and_prep_images(img_paths)",
      "execution_count": 11,
      "outputs": []
    },
    {
      "metadata": {
        "trusted": true,
        "_uuid": "6fd4e3d79fa4ddec8389f65299730fd6822216f1"
      },
      "cell_type": "code",
      "source": "# WHEN USING K-FOLD, DO THIS AFTER TRAIN TEST SPLIT-YOU WILL HAVE TO DO THIS IN THE FOR LOOP\nout_y=keras.utils.to_categorical(labels[\"breed\"])",
      "execution_count": 12,
      "outputs": []
    },
    {
      "metadata": {
        "trusted": true,
        "_uuid": "d54a4aaf2e0123fc882bcda45a48b04d60518243"
      },
      "cell_type": "code",
      "source": "X_train, X_test, y_train, y_test = train_test_split(train_data, out_y, test_size=0.33, random_state=42)",
      "execution_count": 13,
      "outputs": []
    },
    {
      "metadata": {
        "trusted": true,
        "_uuid": "4568c394a840299bb727bfb48ce7a39aaa8714b5"
      },
      "cell_type": "code",
      "source": "X_train[1].shape",
      "execution_count": null,
      "outputs": []
    },
    {
      "metadata": {
        "trusted": true,
        "_uuid": "759d44caa9d46f010f65503091efaf749587cc87"
      },
      "cell_type": "code",
      "source": "image_tensor=X_train[1].reshape(1,224,224,1)",
      "execution_count": null,
      "outputs": []
    },
    {
      "metadata": {
        "trusted": true,
        "_uuid": "125bc524a7b77b4dd4d916e2636c2e4903f07af3"
      },
      "cell_type": "code",
      "source": "#commenting for faster commit\n'''model=Sequential()\nmodel.add(Conv2D(1,(3,3),strides=(2,1),input_shape=(224,224,1)))\nmodel.compile('adam','mse')'''",
      "execution_count": null,
      "outputs": []
    },
    {
      "metadata": {
        "trusted": true,
        "_uuid": "8e50aefff65c59660b40d3b47db8c79da054042f"
      },
      "cell_type": "code",
      "source": "'''img_pred_tensor=model.predict(image_tensor)'''",
      "execution_count": null,
      "outputs": []
    },
    {
      "metadata": {
        "trusted": true,
        "_uuid": "03f5460c91f6e0c10b4f0bd160602c3665bf3240"
      },
      "cell_type": "code",
      "source": "'''img_pred_tensor.shape'''",
      "execution_count": null,
      "outputs": []
    },
    {
      "metadata": {
        "trusted": true,
        "_uuid": "431bc8e01f056de56a5167f3dcadbb7bdb0f001c"
      },
      "cell_type": "code",
      "source": "'''img_pred=img_pred_tensor[0,:,:,0]'''",
      "execution_count": null,
      "outputs": []
    },
    {
      "metadata": {
        "trusted": true,
        "_uuid": "1b802202de8eda9ee33e7e45fd46a8c3e80dcc3f"
      },
      "cell_type": "code",
      "source": "'''plt.imshow(img_pred,cmap='gray')'''",
      "execution_count": null,
      "outputs": []
    },
    {
      "metadata": {
        "trusted": true,
        "_uuid": "9df61b36d9969b964d0c07c12e431e1e90c8a81a"
      },
      "cell_type": "code",
      "source": "'''plt.imshow(img_pred,cmap='gray')'''",
      "execution_count": null,
      "outputs": []
    },
    {
      "metadata": {
        "trusted": true,
        "_uuid": "15ce3e1c63cd222d23cb6a0acd4a3f052e57a10f"
      },
      "cell_type": "code",
      "source": "'''weights=model.get_weights()'''",
      "execution_count": null,
      "outputs": []
    },
    {
      "metadata": {
        "trusted": true,
        "_uuid": "6484dcd759c503d50c3bc6c7e70004ae9f11cf35"
      },
      "cell_type": "code",
      "source": "'''weights'''",
      "execution_count": null,
      "outputs": []
    },
    {
      "metadata": {
        "trusted": true,
        "_uuid": "fab02e081d7648bf590a466c1be23e074604f946"
      },
      "cell_type": "code",
      "source": "",
      "execution_count": null,
      "outputs": []
    },
    {
      "metadata": {
        "trusted": true,
        "_uuid": "01f73649a236a3eaeea6d75669c02fec40182a4b"
      },
      "cell_type": "code",
      "source": "",
      "execution_count": null,
      "outputs": []
    },
    {
      "metadata": {
        "trusted": true,
        "_uuid": "3d508785c52e17e2bb93f7ca6085b2d57439b719"
      },
      "cell_type": "code",
      "source": "'''plt.imshow(weights[0][:,:,0,0],cmap='gray')'''",
      "execution_count": null,
      "outputs": []
    },
    {
      "metadata": {
        "trusted": true,
        "_uuid": "ea2fb66a6d32630caa03026884ec14a6c821dc1a"
      },
      "cell_type": "code",
      "source": "'''weights[0]=np.ones(weights[0].shape)'''",
      "execution_count": null,
      "outputs": []
    },
    {
      "metadata": {
        "trusted": true,
        "_uuid": "37af174778a7022735e8dc8498f53f7d6d595568"
      },
      "cell_type": "code",
      "source": "",
      "execution_count": null,
      "outputs": []
    },
    {
      "metadata": {
        "trusted": true,
        "_uuid": "fbdd8a97b3e8aebc0cb01ba01e1a32d09db5b79f"
      },
      "cell_type": "code",
      "source": "'''model.set_weights(weights)'''",
      "execution_count": null,
      "outputs": []
    },
    {
      "metadata": {
        "trusted": true,
        "_uuid": "581db0901bc3eb097c19d09a0e36566f9240467f"
      },
      "cell_type": "code",
      "source": "'''img_pred_tensor=model.predict(image_tensor)\nimg_pred_tensor.shape'''",
      "execution_count": null,
      "outputs": []
    },
    {
      "metadata": {
        "trusted": true,
        "_uuid": "3e37e87705a3f5d51e79c6c406a0d1694787c5db"
      },
      "cell_type": "code",
      "source": "'''img_pred=img_pred_tensor[0,:,:,0]\nplt.imshow(img_pred,cmap='gray')'''",
      "execution_count": null,
      "outputs": []
    },
    {
      "metadata": {
        "trusted": true,
        "_uuid": "2f8360c86e13f4919b47889ae422ab38785479cc"
      },
      "cell_type": "code",
      "source": "#commenting for faster commit\n'''model=Sequential()\nmodel.add(Conv2D(1,(3,3),input_shape=(224,224,1),padding='same'))\nmodel.compile('adam','mse')\nimg_pred_tensor=model.predict(image_tensor)\nimg_pred=img_pred_tensor[0,:,:,0]\nplt.imshow(img_pred,cmap='gray')'''",
      "execution_count": null,
      "outputs": []
    },
    {
      "metadata": {
        "trusted": true,
        "_uuid": "4f1e96a2abe11973db6591acd44068984537160f"
      },
      "cell_type": "code",
      "source": "'''model.set_weights(weights)\nimg_pred_tensor=model.predict(image_tensor)\nimg_pred_tensor.shape'''",
      "execution_count": null,
      "outputs": []
    },
    {
      "metadata": {
        "trusted": true,
        "_uuid": "c7a7f4d19e566b75407c6ea72b652f43b8c3c33d"
      },
      "cell_type": "code",
      "source": "'''img_pred=img_pred_tensor[0,:,:,0]\nplt.imshow(img_pred,cmap='gray')'''",
      "execution_count": null,
      "outputs": []
    },
    {
      "metadata": {
        "trusted": true,
        "_uuid": "bdffa05d80c10e1a0dd361fc1ebc206e9fb03bf2"
      },
      "cell_type": "code",
      "source": "#commenting for faster commit\n'''model=Sequential()\nmodel.add(AvgPool2D((5,5),input_shape=(224,224,1)))\nmodel.compile('adam','mse')'''",
      "execution_count": null,
      "outputs": []
    },
    {
      "metadata": {
        "trusted": true,
        "_uuid": "5f5740adef53f9641336b4e7a7a4f937e7475a7d"
      },
      "cell_type": "code",
      "source": "'''img_pred=model.predict(image_tensor)[0,:,:,0]\nplt.imshow(img_pred,cmap='gray')'''",
      "execution_count": null,
      "outputs": []
    },
    {
      "metadata": {
        "trusted": true,
        "_uuid": "df63bb325d7b3af4208b672438bd2430e1503bc0"
      },
      "cell_type": "code",
      "source": "'''img_pred=model.predict(image_tensor)[0,:,:,0]\nplt.imshow(img_pred,cmap='gray')'''",
      "execution_count": null,
      "outputs": []
    },
    {
      "metadata": {
        "trusted": true,
        "_uuid": "8aa39d159f6cdee3f33b27bbc35a9f1a5ec9f81e"
      },
      "cell_type": "code",
      "source": "'''img_pred=model.predict(image_tensor)[0,:,:,0]\nplt.imshow(img_pred,cmap='gray')'''",
      "execution_count": null,
      "outputs": []
    },
    {
      "metadata": {
        "trusted": true,
        "_uuid": "e8e154d55f566b7538762334dfdd245b83a46b37"
      },
      "cell_type": "code",
      "source": "X_train.shape",
      "execution_count": null,
      "outputs": []
    },
    {
      "metadata": {
        "trusted": true,
        "_uuid": "5bd43d102abcfa43d08c865f14233b8e9b83434b"
      },
      "cell_type": "code",
      "source": "model=Sequential()\nmodel.add( Conv2D(32,(5,5),input_shape=(224,224,1),activation='relu'))\nmodel.add( Conv2D(32,(5,5),input_shape=(224,224,1),activation='relu'))\nmodel.add(MaxPool2D(pool_size=(2,2)))\n\nmodel.add( Conv2D(64,(4,4),input_shape=(224,224,1),activation='relu'))\nmodel.add( Conv2D(64,(4,4),input_shape=(224,224,1),activation='relu'))\nmodel.add(MaxPool2D(pool_size=(2,2)))\n\nmodel.add( Conv2D(128,(3,3),input_shape=(224,224,1),activation='relu'))\nmodel.add( Conv2D(128,(3,3),input_shape=(224,224,1),activation='relu'))\nmodel.add(MaxPool2D(pool_size=(2,2)))\n\nmodel.add( Conv2D(256,(3,3),input_shape=(224,224,1),activation='relu'))\nmodel.add( Conv2D(256,(3,3),input_shape=(224,224,1),activation='relu'))\nmodel.add(MaxPool2D(pool_size=(2,2)))\n\nmodel.add(Flatten())\n\nmodel.add(Dense(512,activation='relu'))\nmodel.add(Dense(120, activation='softmax'))\n\nmodel.compile(loss='categorical_crossentropy',optimizer='rmsprop',metrics=['accuracy'])",
      "execution_count": 16,
      "outputs": []
    },
    {
      "metadata": {
        "trusted": true,
        "_uuid": "7abbed707ff2ec36704566faf6adefac71191d84"
      },
      "cell_type": "code",
      "source": "model.summary()",
      "execution_count": 17,
      "outputs": [
        {
          "output_type": "stream",
          "text": "_________________________________________________________________\nLayer (type)                 Output Shape              Param #   \n=================================================================\nconv2d (Conv2D)              (None, 220, 220, 32)      832       \n_________________________________________________________________\nconv2d_1 (Conv2D)            (None, 216, 216, 32)      25632     \n_________________________________________________________________\nmax_pooling2d (MaxPooling2D) (None, 108, 108, 32)      0         \n_________________________________________________________________\nconv2d_2 (Conv2D)            (None, 105, 105, 64)      32832     \n_________________________________________________________________\nconv2d_3 (Conv2D)            (None, 102, 102, 64)      65600     \n_________________________________________________________________\nmax_pooling2d_1 (MaxPooling2 (None, 51, 51, 64)        0         \n_________________________________________________________________\nconv2d_4 (Conv2D)            (None, 49, 49, 128)       73856     \n_________________________________________________________________\nconv2d_5 (Conv2D)            (None, 47, 47, 128)       147584    \n_________________________________________________________________\nmax_pooling2d_2 (MaxPooling2 (None, 23, 23, 128)       0         \n_________________________________________________________________\nconv2d_6 (Conv2D)            (None, 21, 21, 256)       295168    \n_________________________________________________________________\nconv2d_7 (Conv2D)            (None, 19, 19, 256)       590080    \n_________________________________________________________________\nmax_pooling2d_3 (MaxPooling2 (None, 9, 9, 256)         0         \n_________________________________________________________________\nflatten (Flatten)            (None, 20736)             0         \n_________________________________________________________________\ndense (Dense)                (None, 512)               10617344  \n_________________________________________________________________\ndense_1 (Dense)              (None, 120)               61560     \n=================================================================\nTotal params: 11,910,488\nTrainable params: 11,910,488\nNon-trainable params: 0\n_________________________________________________________________\n",
          "name": "stdout"
        }
      ]
    },
    {
      "metadata": {
        "trusted": true,
        "_uuid": "d5434132c375376ad2e51f6beb44b98f621bb657"
      },
      "cell_type": "code",
      "source": "#model.fit(X_train,y_train,batch_size=128,epochs=20,verbose=1) commenting to avoid delays while committing notebook ",
      "execution_count": null,
      "outputs": []
    },
    {
      "metadata": {
        "trusted": true,
        "_uuid": "3fd6ce12dce10017262d085fe001b410e87c01a1"
      },
      "cell_type": "code",
      "source": "#commenting for faster commit\n'''model.evaluate(X_test,y_test)'''",
      "execution_count": null,
      "outputs": []
    },
    {
      "metadata": {
        "trusted": true,
        "_uuid": "71bb7855a16ca95571c5e8b81cb96a350c277ebb"
      },
      "cell_type": "code",
      "source": "#Learning Curve",
      "execution_count": null,
      "outputs": []
    },
    {
      "metadata": {
        "trusted": true,
        "_uuid": "516c492191f84832ff8446e43f7d619bb5d12373"
      },
      "cell_type": "code",
      "source": "train_sizes=(len(X_train) * np.linspace(0.1,0.999,4)).astype(int)\ntrain_sizes",
      "execution_count": 14,
      "outputs": [
        {
          "output_type": "execute_result",
          "execution_count": 14,
          "data": {
            "text/plain": "array([ 684, 2736, 4789, 6841])"
          },
          "metadata": {}
        }
      ]
    },
    {
      "metadata": {
        "trusted": true,
        "_uuid": "255a64288c5fd89d5e7352fed2cb526cc5daf7f5"
      },
      "cell_type": "code",
      "source": "initial_weights=model.get_weights()",
      "execution_count": 18,
      "outputs": []
    },
    {
      "metadata": {
        "trusted": true,
        "_uuid": "fa8f65a781322d8d52958e1fd50eca29d7c7206f"
      },
      "cell_type": "code",
      "source": "'''train_scores = []\ntest_scores = []\nfor train_size in train_sizes:\n    X_train_frac, _, y_train_frac, _= train_test_split(X_train, y_train, train_size=train_size)\n    \n    # at each iteration, reset the weight of the model\n    # to the initial random weights\n    model.set_weights(initial_weights)\n    h=model.fit(X_train_frac, y_train_frac,\n               verbose=0,\n               epochs=300,\n               callbacks=[EarlyStopping(monitor='loss',patience=1)])\n    r= model.evaluate(X_train_frac,y_train_frac,verbose=0)\n    train_scores.append(r[-1])\n    \n    e= model.evaluate(X_test,y_test,verbose=0)\n    test_scores.append(e[-1])\n    print(\"Done size:\",train_size)'''\n    ",
      "execution_count": 19,
      "outputs": [
        {
          "output_type": "stream",
          "text": "/opt/conda/lib/python3.6/site-packages/sklearn/model_selection/_split.py:2069: FutureWarning: From version 0.21, test_size will always complement train_size unless both are specified.\n  FutureWarning)\n",
          "name": "stderr"
        },
        {
          "output_type": "stream",
          "text": "Done size: 684\nDone size: 2736\nDone size: 4789\nDone size: 6841\n",
          "name": "stdout"
        }
      ]
    },
    {
      "metadata": {
        "trusted": true,
        "_uuid": "0c28af81dc83c9045df24935b5000ed6903595db"
      },
      "cell_type": "code",
      "source": "",
      "execution_count": null,
      "outputs": []
    },
    {
      "metadata": {
        "trusted": true,
        "_uuid": "d55557e2afb6923dc829aa603267ae8eae2159b2"
      },
      "cell_type": "code",
      "source": "plt.plot(train_sizes,train_scores,'o-',label=\"Training Score\")\nplt.plot(train_sizes,test_scores,'o-',label=\"Test Score\")\nplt.legend(loc=\"best\")",
      "execution_count": 20,
      "outputs": [
        {
          "output_type": "execute_result",
          "execution_count": 20,
          "data": {
            "text/plain": "<matplotlib.legend.Legend at 0x7f54d80074e0>"
          },
          "metadata": {}
        },
        {
          "output_type": "display_data",
          "data": {
            "text/plain": "<Figure size 432x288 with 1 Axes>",
            "image/png": "[encoded data removed]"
          },
          "metadata": {
            "needs_background": "light"
          }
        }
      ]
    },
    {
      "metadata": {
        "trusted": true,
        "_uuid": "cdc88d749ba376adbc25e0567653e0a78ddd947f"
      },
      "cell_type": "code",
      "source": "#IMPROVING MODEL",
      "execution_count": null,
      "outputs": []
    },
    {
      "metadata": {
        "trusted": true,
        "_uuid": "244c5a7251539e424bdf83bc923a515277aac3e7"
      },
      "cell_type": "code",
      "source": "'''# [4.783581330921781, 0.008595139300533492]\nearly stopping stopped at 3rd epoch, now adding batch normalization and dropout layers to the model\nand kernel initializer = normal to dense layer'''\nmodel=Sequential()\nmodel.add( Conv2D(32,(5,5),input_shape=(224,224,1),activation='relu'))\nmodel.add( Conv2D(32,(5,5),input_shape=(224,224,1),activation='relu'))\nmodel.add(MaxPool2D(pool_size=(2,2)))\nmodel.add(BatchNormalization())\nmodel.add(Dropout(0.2))\nmodel.add( Conv2D(64,(4,4),input_shape=(224,224,1),activation='relu'))\nmodel.add( Conv2D(64,(4,4),input_shape=(224,224,1),activation='relu'))\nmodel.add(MaxPool2D(pool_size=(2,2)))\nmodel.add(BatchNormalization())\nmodel.add(Dropout(0.2))\nmodel.add( Conv2D(128,(3,3),input_shape=(224,224,1),activation='relu'))\nmodel.add( Conv2D(128,(3,3),input_shape=(224,224,1),activation='relu'))\nmodel.add(MaxPool2D(pool_size=(2,2)))\nmodel.add(Dropout(0.3))\nmodel.add( Conv2D(256,(3,3),input_shape=(224,224,1),activation='relu'))\nmodel.add( Conv2D(256,(3,3),input_shape=(224,224,1),activation='relu'))\nmodel.add(MaxPool2D(pool_size=(2,2)))\nmodel.add(Dropout(0.2))\nmodel.add(Flatten())\n\nmodel.add(Dense(512,activation='relu', kernel_initializer='normal'))\nmodel.add(Dense(512,activation='relu', kernel_initializer='normal'))\nmodel.add(Dense(120, activation='softmax'))\n\nmodel.compile(loss='categorical_crossentropy',optimizer='rmsprop',metrics=['accuracy'])",
      "execution_count": 33,
      "outputs": []
    },
    {
      "metadata": {
        "trusted": true,
        "_uuid": "b408f40851123ce4b195a3e11b1ad7d24446b586"
      },
      "cell_type": "code",
      "source": "#model.fit(X_train,y_train,batch_size=128,epochs=10,verbose=1,callbacks=[EarlyStopping(monitor='loss',patience=1)]) #commenting to avoid delays while committing notebook ",
      "execution_count": 34,
      "outputs": [
        {
          "output_type": "stream",
          "text": "Epoch 1/10\n6848/6848 [==============================] - 67s 10ms/step - loss: 5.2216 - acc: 0.0134\nEpoch 2/10\n6848/6848 [==============================] - 66s 10ms/step - loss: 4.6994 - acc: 0.0187\nEpoch 3/10\n6848/6848 [==============================] - 66s 10ms/step - loss: 4.5648 - acc: 0.0394\nEpoch 4/10\n6848/6848 [==============================] - 66s 10ms/step - loss: 4.1585 - acc: 0.0895\nEpoch 5/10\n6848/6848 [==============================] - 66s 10ms/step - loss: 3.3256 - acc: 0.2202\nEpoch 6/10\n6848/6848 [==============================] - 66s 10ms/step - loss: 1.9071 - acc: 0.5188\nEpoch 7/10\n6848/6848 [==============================] - 66s 10ms/step - loss: 0.6989 - acc: 0.8087\nEpoch 8/10\n6848/6848 [==============================] - 66s 10ms/step - loss: 0.3565 - acc: 0.9008\nEpoch 9/10\n6848/6848 [==============================] - 66s 10ms/step - loss: 0.2628 - acc: 0.9263\nEpoch 10/10\n6848/6848 [==============================] - 66s 10ms/step - loss: 0.1989 - acc: 0.9492\n",
          "name": "stdout"
        },
        {
          "output_type": "execute_result",
          "execution_count": 34,
          "data": {
            "text/plain": "<tensorflow.python.keras.callbacks.History at 0x7f549ce98828>"
          },
          "metadata": {}
        }
      ]
    },
    {
      "metadata": {
        "trusted": true,
        "_uuid": "532982d2b7439fe3511c39cdba64389cc86ffbf5"
      },
      "cell_type": "code",
      "source": "model.evaluate(X_test,y_test)",
      "execution_count": null,
      "outputs": []
    },
    {
      "metadata": {
        "trusted": true,
        "_uuid": "4efe7ea796c458ac3b260168ffbce0239fbcefe0"
      },
      "cell_type": "code",
      "source": "",
      "execution_count": null,
      "outputs": []
    },
    {
      "metadata": {
        "trusted": true,
        "_uuid": "865e1ed772a7cae04650a6407cbedfd1cf914995"
      },
      "cell_type": "code",
      "source": "",
      "execution_count": null,
      "outputs": []
    },
    {
      "metadata": {
        "trusted": true,
        "_uuid": "08c0e47c478fe2c38fbe15c5ba05bc0464c45d06"
      },
      "cell_type": "code",
      "source": "",
      "execution_count": null,
      "outputs": []
    },
    {
      "metadata": {
        "trusted": true,
        "_uuid": "9638b2ccf0ca0bf50127da24c5742f390c842fe2"
      },
      "cell_type": "code",
      "source": "",
      "execution_count": null,
      "outputs": []
    },
    {
      "metadata": {
        "trusted": true,
        "_uuid": "ca05495bc5a3dd042f320402c93fe53a9b4d3f41"
      },
      "cell_type": "code",
      "source": "",
      "execution_count": null,
      "outputs": []
    },
    {
      "metadata": {
        "trusted": true,
        "_uuid": "0f342d7f812710c76229644d180c63ae2f910840"
      },
      "cell_type": "code",
      "source": "",
      "execution_count": null,
      "outputs": []
    },
    {
      "metadata": {
        "trusted": true,
        "_uuid": "898fc68594f3811dfe55fca053509a3834701a11"
      },
      "cell_type": "code",
      "source": "",
      "execution_count": null,
      "outputs": []
    },
    {
      "metadata": {
        "trusted": true,
        "_uuid": "50621c86383996f09ade4065424180410e485c3e"
      },
      "cell_type": "code",
      "source": "",
      "execution_count": null,
      "outputs": []
    },
    {
      "metadata": {
        "trusted": true,
        "_uuid": "0894cbbdc3254a2a67b60804eeba78770b21ec49"
      },
      "cell_type": "code",
      "source": "",
      "execution_count": null,
      "outputs": []
    },
    {
      "metadata": {
        "trusted": true,
        "_uuid": "a506b514254df82b34b35831a72e2ef4f3484d46"
      },
      "cell_type": "code",
      "source": "",
      "execution_count": null,
      "outputs": []
    },
    {
      "metadata": {
        "trusted": true,
        "_uuid": "21a8181084c7f3bb931d4e3149e6690fa0773f66"
      },
      "cell_type": "code",
      "source": "",
      "execution_count": null,
      "outputs": []
    },
    {
      "metadata": {
        "trusted": true,
        "_uuid": "33a84b87ae29573fe678c63673dd840c59c543dc"
      },
      "cell_type": "code",
      "source": "",
      "execution_count": null,
      "outputs": []
    },
    {
      "metadata": {
        "trusted": true,
        "_uuid": "b4b372ebed5c8462d302ede71432eb2dd98ee816"
      },
      "cell_type": "code",
      "source": "",
      "execution_count": null,
      "outputs": []
    },
    {
      "metadata": {
        "trusted": true,
        "_uuid": "6afa7fa422bc8d1886c7892714b5d00da449c0f9"
      },
      "cell_type": "code",
      "source": "",
      "execution_count": null,
      "outputs": []
    },
    {
      "metadata": {
        "trusted": true,
        "_uuid": "44bcd3593f67e09cd582a3c6507ed8d3a7c0961f"
      },
      "cell_type": "code",
      "source": "",
      "execution_count": null,
      "outputs": []
    },
    {
      "metadata": {
        "trusted": true,
        "_uuid": "c433e522bbddbcb633017dbd245080accbc931f7"
      },
      "cell_type": "code",
      "source": "",
      "execution_count": null,
      "outputs": []
    },
    {
      "metadata": {
        "trusted": true,
        "_uuid": "c8c0b26ecfe6fa001c4d6ba75c3fd1cc9811d4ea"
      },
      "cell_type": "code",
      "source": "",
      "execution_count": null,
      "outputs": []
    },
    {
      "metadata": {
        "trusted": true,
        "_uuid": "e502cf4dadfcd4f05ba6d9471771152d8fc04804"
      },
      "cell_type": "code",
      "source": "",
      "execution_count": null,
      "outputs": []
    },
    {
      "metadata": {
        "trusted": true,
        "_uuid": "de0ee30d3fbbb553edd1d69ed3b2bc7a54ef9278"
      },
      "cell_type": "code",
      "source": "",
      "execution_count": null,
      "outputs": []
    },
    {
      "metadata": {
        "trusted": true,
        "_uuid": "3133a58570adf04faafce46ab6e628882e722514"
      },
      "cell_type": "code",
      "source": "",
      "execution_count": null,
      "outputs": []
    }
  ],
  "metadata": {
    "kernelspec": {
      "display_name": "Python 3",
      "language": "python",
      "name": "python3"
    },
    "language_info": {
      "name": "python",
      "version": "3.6.6",
      "mimetype": "text/x-python",
      "codemirror_mode": {
        "name": "ipython",
        "version": 3
      },
      "pygments_lexer": "ipython3",
      "nbconvert_exporter": "python",
      "file_extension": ".py"
    }
  },
  "nbformat": 4,
  "nbformat_minor": 1
}