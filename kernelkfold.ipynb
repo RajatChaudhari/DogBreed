{
 "cells": [
  {
   "cell_type": "code",
   "execution_count": 1,
   "metadata": {
    "_cell_guid": "b1076dfc-b9ad-4769-8c92-a6c4dae69d19",
    "_uuid": "8f2839f25d086af736a60e9eeb907d3b93b6e0e5"
   },
   "outputs": [
    {
     "name": "stdout",
     "output_type": "stream",
     "text": [
      "['labels.csv', 'train', 'test', 'sample_submission.csv']\n"
     ]
    }
   ],
   "source": [
    "# This Python 3 environment comes with many helpful analytics libraries installed\n",
    "# It is defined by the kaggle/python docker image: https://github.com/kaggle/docker-python\n",
    "# For example, here's several helpful packages to load in \n",
    "\n",
    "import numpy as np # linear algebra\n",
    "import pandas as pd # data processing, CSV file I/O (e.g. pd.read_csv)\n",
    "\n",
    "import matplotlib.pyplot as plt\n",
    "%matplotlib inline\n",
    "import cv2\n",
    "# Input data files are available in the \"../input/\" directory.\n",
    "# For example, running this (by clicking run or pressing Shift+Enter) will list the files in the input directory\n",
    "\n",
    "import os\n",
    "print(os.listdir(\"../input\"))\n",
    "\n",
    "# Any results you write to the current directory are saved as output."
   ]
  },
  {
   "cell_type": "code",
   "execution_count": 10,
   "metadata": {
    "_cell_guid": "79c7e3d0-c299-4dcb-8224-4455121ee9b0",
    "_uuid": "d629ff2d2480ee46fbb7e2d37f6b5fab8052498a"
   },
   "outputs": [],
   "source": [
    "from os.path import join\n",
    "from sklearn.model_selection import train_test_split,StratifiedKFold\n",
    "from tensorflow.python import keras\n",
    "from tensorflow.python.keras.models import Sequential\n",
    "from tensorflow.python.keras.layers import Dense, Flatten, Conv2D, Dropout, BatchNormalization,MaxPooling2D\n",
    "from tensorflow.python.keras.preprocessing.image import load_img, img_to_array"
   ]
  },
  {
   "cell_type": "code",
   "execution_count": 3,
   "metadata": {
    "_uuid": "8f2ecb108eeb4edc249f7662f79457c585b8a0fc"
   },
   "outputs": [
    {
     "data": {
      "text/html": [
       "<div>\n",
       "<style scoped>\n",
       "    .dataframe tbody tr th:only-of-type {\n",
       "        vertical-align: middle;\n",
       "    }\n",
       "\n",
       "    .dataframe tbody tr th {\n",
       "        vertical-align: top;\n",
       "    }\n",
       "\n",
       "    .dataframe thead th {\n",
       "        text-align: right;\n",
       "    }\n",
       "</style>\n",
       "<table border=\"1\" class=\"dataframe\">\n",
       "  <thead>\n",
       "    <tr style=\"text-align: right;\">\n",
       "      <th></th>\n",
       "      <th>id</th>\n",
       "      <th>breed</th>\n",
       "    </tr>\n",
       "  </thead>\n",
       "  <tbody>\n",
       "    <tr>\n",
       "      <th>0</th>\n",
       "      <td>000bec180eb18c7604dcecc8fe0dba07</td>\n",
       "      <td>boston_bull</td>\n",
       "    </tr>\n",
       "    <tr>\n",
       "      <th>1</th>\n",
       "      <td>001513dfcb2ffafc82cccf4d8bbaba97</td>\n",
       "      <td>dingo</td>\n",
       "    </tr>\n",
       "    <tr>\n",
       "      <th>2</th>\n",
       "      <td>001cdf01b096e06d78e9e5112d419397</td>\n",
       "      <td>pekinese</td>\n",
       "    </tr>\n",
       "    <tr>\n",
       "      <th>3</th>\n",
       "      <td>00214f311d5d2247d5dfe4fe24b2303d</td>\n",
       "      <td>bluetick</td>\n",
       "    </tr>\n",
       "    <tr>\n",
       "      <th>4</th>\n",
       "      <td>0021f9ceb3235effd7fcde7f7538ed62</td>\n",
       "      <td>golden_retriever</td>\n",
       "    </tr>\n",
       "  </tbody>\n",
       "</table>\n",
       "</div>"
      ],
      "text/plain": [
       "                                 id             breed\n",
       "0  000bec180eb18c7604dcecc8fe0dba07       boston_bull\n",
       "1  001513dfcb2ffafc82cccf4d8bbaba97             dingo\n",
       "2  001cdf01b096e06d78e9e5112d419397          pekinese\n",
       "3  00214f311d5d2247d5dfe4fe24b2303d          bluetick\n",
       "4  0021f9ceb3235effd7fcde7f7538ed62  golden_retriever"
      ]
     },
     "execution_count": 3,
     "metadata": {},
     "output_type": "execute_result"
    }
   ],
   "source": [
    "labels = pd.read_csv(\"../input/labels.csv\")\n",
    "labels.head()"
   ]
  },
  {
   "cell_type": "code",
   "execution_count": 4,
   "metadata": {
    "_uuid": "e27878d9742a0ff697e593f585f718c708bd7f38",
    "collapsed": true
   },
   "outputs": [],
   "source": [
    "#convert breed from categories to numbers\n",
    "dogs=labels.breed.unique()\n",
    "\n",
    "breeds={}\n",
    "\n",
    "num=0\n",
    "for item in dogs:\n",
    "    breeds[item]=num\n",
    "    num+=1\n",
    "    \n",
    "labels.breed=[breeds[item] for item in labels.breed]"
   ]
  },
  {
   "cell_type": "code",
   "execution_count": 5,
   "metadata": {
    "_uuid": "f50f3f1bc588939ba1eefa69572faa147ae85c13",
    "collapsed": true
   },
   "outputs": [],
   "source": [
    "#creating a dataframe with full Image Path\n",
    "img_paths = [join(\"../input/train/\", id+\".jpg\") for id in labels[\"id\"]]"
   ]
  },
  {
   "cell_type": "code",
   "execution_count": 6,
   "metadata": {
    "_uuid": "15b0d769d03da3a3b57cbc145840ef6ca8d47729",
    "collapsed": true
   },
   "outputs": [],
   "source": [
    "def read_and_prep_images(img_paths, img_height=100, img_width=100):\n",
    "    imgs = [load_img(img_path, target_size=(img_height, img_width)) for img_path in img_paths]\n",
    "    img_array = np.array([img_to_array(img)/255 for img in imgs])\n",
    "    return img_array"
   ]
  },
  {
   "cell_type": "code",
   "execution_count": 7,
   "metadata": {
    "_uuid": "b9d4f20ea01f8f72d56639a637c1424d9b6b107b",
    "collapsed": true
   },
   "outputs": [],
   "source": [
    "train_data1 = read_and_prep_images(img_paths)"
   ]
  },
  {
   "cell_type": "code",
   "execution_count": 15,
   "metadata": {
    "_uuid": "278759b6a771f274ec7b536307357a810d0d9c3c",
    "collapsed": true
   },
   "outputs": [],
   "source": [
    "Y=labels[\"breed\"]"
   ]
  },
  {
   "cell_type": "code",
   "execution_count": 8,
   "metadata": {
    "_uuid": "7ef19ad64fb986505ebfe61a1c58cfaaa9f8d6d2",
    "collapsed": true
   },
   "outputs": [],
   "source": [
    "out_y=keras.utils.to_categorical(labels[\"breed\"])"
   ]
  },
  {
   "cell_type": "code",
   "execution_count": 12,
   "metadata": {
    "_uuid": "1c3f3ebdba0002e595a5e6753ab37c8b5bcf3acf"
   },
   "outputs": [],
   "source": [
    "kfold = StratifiedKFold(n_splits=10, shuffle=True, random_state=7)"
   ]
  },
  {
   "cell_type": "code",
   "execution_count": 13,
   "metadata": {
    "_uuid": "aff4210badb5967fec1d6aca27c2888d1da0189d"
   },
   "outputs": [],
   "source": [
    "X_train, X_test, y_train, y_test = train_test_split(train_data1, out_y, test_size=0.33, random_state=42)"
   ]
  },
  {
   "cell_type": "code",
   "execution_count": null,
   "metadata": {
    "_uuid": "1901defe4b89d7bad8f0d5b9741a4f45085e4015",
    "collapsed": true
   },
   "outputs": [],
   "source": []
  },
  {
   "cell_type": "code",
   "execution_count": null,
   "metadata": {
    "_uuid": "e84fc94c8f1216284ec986fab0ea7cb8d94646d5",
    "scrolled": true
   },
   "outputs": [],
   "source": [
    "cvscores = []\n",
    "H=[]\n",
    "for train, test in kfold.split(train_data1, Y):\n",
    "    model=Sequential()\n",
    "    \n",
    "    model.add(BatchNormalization())\n",
    "    model.add(Conv2D(256,kernel_size=(3,3),activation='relu',strides=2,input_shape=(100,100,3),padding='same'))\n",
    "    \n",
    "    model.add(BatchNormalization())\n",
    "    model.add(Conv2D(256,kernel_size=(3,3),strides=1,activation='relu',padding='valid'))\n",
    "              \n",
    "    model.add(BatchNormalization())\n",
    "    model.add(Conv2D(256,kernel_size=(3,3),activation='relu',padding='valid'))\n",
    "    model.add(MaxPooling2D())\n",
    "    model.add(Dropout(.30))\n",
    "    \n",
    "    model.add(BatchNormalization())\n",
    "    model.add(Conv2D(64,kernel_size=(3,3),activation='relu'))\n",
    "              \n",
    "    model.add(BatchNormalization())\n",
    "    model.add(Conv2D(64,kernel_size=(3,3),activation='relu'))\n",
    "    model.add(MaxPooling2D())\n",
    "    \n",
    "    model.add(BatchNormalization())\n",
    "    model.add(Conv2D(128,kernel_size=(3,3),activation='relu'))\n",
    "    model.add(Dropout(.20))\n",
    "\n",
    "    model.add(Conv2D(128,kernel_size=(3,3),activation='relu'))\n",
    "    model.add(MaxPooling2D())\n",
    "    #model.add(Conv2D(128,kernel_size=(3,3),activation='relu'))\n",
    "    model.add(Flatten())\n",
    "    model.add(Dense(256,activation='relu'))\n",
    "    model.add(Dense(128,activation='relu'))\n",
    "    model.add(Dropout(.30))\n",
    "    model.add(Dense(256,activation='relu'))\n",
    "    model.add(Dense(128,activation='relu'))\n",
    "    model.add(Dropout(.20))\n",
    "    model.add(Dense(256,activation='relu'))\n",
    "    model.add(Dense(128,activation='relu'))\n",
    "    model.add(Dense(128,activation='relu'))\n",
    "    model.add(Dense(120,activation='softmax'))\n",
    "    model.compile(loss=keras.losses.categorical_crossentropy,optimizer='adam',metrics=['accuracy'])\n",
    "    \n",
    "    YCatTrain=keras.utils.to_categorical(Y[train])\n",
    "    \n",
    "    h=model.fit(train_data1[train], YCatTrain,\n",
    "          batch_size=128,\n",
    "          epochs=10,\n",
    "          validation_split = 0.2)\n",
    "    \n",
    "    YCatTest=keras.utils.to_categorical(Y[test])\n",
    "    \n",
    "    scores = model.evaluate(train_data1[test], YCatTest, verbose=0)\n",
    "    print(\"%s: %.2f%%\" % (model.metrics_names[1], scores[1]*100))\n",
    "    cvscores.append(scores[1] * 100)\n",
    "    H.append(h)"
   ]
  },
  {
   "cell_type": "code",
   "execution_count": null,
   "metadata": {
    "_uuid": "f41d9a6b0d3f1c96bb09a76aad80d4b3ed495bef",
    "collapsed": true
   },
   "outputs": [],
   "source": [
    "#model.compile(loss=keras.losses.categorical_crossentropy,optimizer='adam',metrics=['accuracy'])"
   ]
  },
  {
   "cell_type": "code",
   "execution_count": null,
   "metadata": {
    "_uuid": "05040dbb3f7d5cfafe279e16d04d3147fc004bf9",
    "collapsed": true
   },
   "outputs": [],
   "source": [
    "'''H=model.fit(X_train, y_train,\n",
    "          batch_size=128,\n",
    "          epochs=50,\n",
    "          validation_split = 0.2)'''"
   ]
  },
  {
   "cell_type": "code",
   "execution_count": null,
   "metadata": {
    "_uuid": "66d8164c24586d4d428b4d4e14bf6ff39e52fad3",
    "collapsed": true
   },
   "outputs": [],
   "source": [
    "# plot the training loss and accuracy\n",
    "plt.style.use(\"ggplot\")\n",
    "plt.figure()\n",
    "N = 100\n",
    "plt.plot(np.arange(0, N), H.history[\"loss\"], label=\"train_loss\")\n",
    "plt.plot(np.arange(0, N), H.history[\"val_loss\"], label=\"val_loss\")\n",
    "plt.title(\"Training Loss\")\n",
    "plt.xlabel(\"Epoch #\")\n",
    "plt.ylabel(\"Loss/Accuracy\")\n",
    "plt.legend(loc=\"upper left\")\n",
    "#plt.savefig(args[\"plot\"])"
   ]
  },
  {
   "cell_type": "code",
   "execution_count": null,
   "metadata": {
    "_uuid": "dde6242a144dff7242981010d2b8287ce0e82b24",
    "collapsed": true
   },
   "outputs": [],
   "source": [
    "plt.plot(np.arange(0, N), H.history[\"acc\"], label=\"train_acc\")\n",
    "plt.plot(np.arange(0, N), H.history[\"val_acc\"], label=\"val_acc\")\n",
    "plt.title(\"Training Accuracy\")\n",
    "plt.xlabel(\"Epoch #\")\n",
    "plt.ylabel(\"Loss/Accuracy\")\n",
    "plt.legend(loc=\"upper left\")"
   ]
  },
  {
   "cell_type": "code",
   "execution_count": null,
   "metadata": {
    "_uuid": "ce808b4e3fd16692293b11695bac4fd2119cf05f",
    "collapsed": true
   },
   "outputs": [],
   "source": [
    "reversebreed={}\n",
    "num=0\n",
    "for item in range(120):\n",
    "    reversebreed[item]=dogs[num]\n",
    "    num+=1\n",
    "#labels.breed=[reversebreed[item] for item in labels.breed]"
   ]
  },
  {
   "cell_type": "code",
   "execution_count": null,
   "metadata": {
    "_uuid": "77d50f4af5cbd5ca82abaf683a8ef38cf1bee5cd",
    "collapsed": true
   },
   "outputs": [],
   "source": [
    "img_paths_test = \"../input/test\""
   ]
  },
  {
   "cell_type": "code",
   "execution_count": null,
   "metadata": {
    "_uuid": "7bed3e869eeeb0668f960f6b2e53c4de60eb0ff1",
    "collapsed": true
   },
   "outputs": [],
   "source": [
    "testimgs = [load_img(img_paths_test+\"/\"+filename, target_size=(100, 100)) for filename in os.listdir(img_paths_test)]\n",
    "test_img_array = np.array([img_to_array(img) for img in testimgs])   "
   ]
  },
  {
   "cell_type": "code",
   "execution_count": null,
   "metadata": {
    "_uuid": "a4173552a039b4aefb157b4ef0de1a1ee01f0690",
    "collapsed": true
   },
   "outputs": [],
   "source": [
    "test_img_array.shape"
   ]
  },
  {
   "cell_type": "code",
   "execution_count": null,
   "metadata": {
    "_uuid": "e22442f3972e9a3aa607ca494f93bc0625ff20da",
    "collapsed": true
   },
   "outputs": [],
   "source": [
    "preds=model.predict_proba(test_img_array,batch_size=64)"
   ]
  },
  {
   "cell_type": "code",
   "execution_count": null,
   "metadata": {
    "_uuid": "1dfb331cf3d520847004f7790567c71001c9ac8a",
    "collapsed": true
   },
   "outputs": [],
   "source": [
    "probDF=pd.DataFrame(preds)"
   ]
  },
  {
   "cell_type": "code",
   "execution_count": null,
   "metadata": {
    "_uuid": "6c2c70b5b54f49bf27b5c8e755ddc36195012ebb",
    "collapsed": true
   },
   "outputs": [],
   "source": [
    "probDF.rename(reversebreed,axis=1,inplace=True)"
   ]
  },
  {
   "cell_type": "code",
   "execution_count": null,
   "metadata": {
    "_uuid": "5f13f2dc4dbce5d13e8612ab94abd42ec048c5d1",
    "collapsed": true
   },
   "outputs": [],
   "source": [
    "probDF=probDF.reindex_axis(sorted(probDF.columns), axis=1)"
   ]
  },
  {
   "cell_type": "code",
   "execution_count": null,
   "metadata": {
    "_uuid": "77281a0830a76f08a9d487c4402cdc80f541b867",
    "collapsed": true
   },
   "outputs": [],
   "source": [
    "probDF.head()"
   ]
  },
  {
   "cell_type": "code",
   "execution_count": null,
   "metadata": {
    "_uuid": "698db2e59c012b54be1045cdf9736fcc8651fd07",
    "collapsed": true
   },
   "outputs": [],
   "source": [
    "imgnames=[]\n",
    "for filename in os.listdir(img_paths_test):\n",
    "    imgnames.append(filename.split('.')[0])"
   ]
  },
  {
   "cell_type": "code",
   "execution_count": null,
   "metadata": {
    "_uuid": "02758814320e88f20e80230e2029b35eecb39992",
    "collapsed": true
   },
   "outputs": [],
   "source": [
    "imgnames=pd.DataFrame(imgnames)"
   ]
  },
  {
   "cell_type": "code",
   "execution_count": null,
   "metadata": {
    "_uuid": "ecf6aaa22ebc5b698481d267c7fdd382dcfb09de",
    "collapsed": true
   },
   "outputs": [],
   "source": [
    "submission=imgnames.join(probDF)"
   ]
  },
  {
   "cell_type": "code",
   "execution_count": null,
   "metadata": {
    "_uuid": "f80f93e7cc93620f74e57e559de29db16690b8a5",
    "collapsed": true
   },
   "outputs": [],
   "source": [
    "submission.rename(columns={0:\"id\"},inplace=True)"
   ]
  },
  {
   "cell_type": "code",
   "execution_count": null,
   "metadata": {
    "_uuid": "b80ec9ddc9b9c9a09c6686f96a6b08d453af6298",
    "collapsed": true
   },
   "outputs": [],
   "source": [
    "submission.to_csv(\"Submission.csv\",sep=',',encoding='utf-8',index=False)"
   ]
  },
  {
   "cell_type": "code",
   "execution_count": null,
   "metadata": {
    "_uuid": "8ad36e7667d4b5a0d09f0005436258d37c726ff4",
    "collapsed": true
   },
   "outputs": [],
   "source": [
    "'''for pred in preds:\n",
    "        top_indices = pred.argsort()[-3:][::-1]\n",
    "        result = [ (pred[i],) for i in top_indices]\n",
    "        result.sort(key=lambda x: x[0], reverse=True)\n",
    "        print(result)'''"
   ]
  },
  {
   "cell_type": "code",
   "execution_count": null,
   "metadata": {
    "_uuid": "febbbe161a75dfc05bc114d509cdf51345bc5a91",
    "collapsed": true
   },
   "outputs": [],
   "source": [
    "#model.save(\"dogbreedmodel1.h5\")"
   ]
  },
  {
   "cell_type": "code",
   "execution_count": null,
   "metadata": {
    "_uuid": "6ed3b13e69a6d78dba4648b75ed3790e47a4ff29",
    "collapsed": true
   },
   "outputs": [],
   "source": []
  }
 ],
 "metadata": {
  "kernelspec": {
   "display_name": "Python 3",
   "language": "python",
   "name": "python3"
  },
  "language_info": {
   "codemirror_mode": {
    "name": "ipython",
    "version": 3
   },
   "file_extension": ".py",
   "mimetype": "text/x-python",
   "name": "python",
   "nbconvert_exporter": "python",
   "pygments_lexer": "ipython3",
   "version": "3.6.5"
  }
 },
 "nbformat": 4,
 "nbformat_minor": 1
}
