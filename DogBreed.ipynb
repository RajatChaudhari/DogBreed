{
 "cells": [
  {
   "cell_type": "code",
   "execution_count": 1,
   "metadata": {},
   "outputs": [],
   "source": [
    "import numpy as np # linear algebra\n",
    "import pandas as pd # data processing, CSV file I/O (e.g. pd.read_csv)\n",
    "from PIL import Image\n",
    "from scipy import ndimage, misc\n",
    "import matplotlib.pyplot as plt\n",
    "%matplotlib inline\n",
    "import skimage.io as io\n",
    "from skimage.color import rgb2gray\n",
    "import cv2"
   ]
  },
  {
   "cell_type": "code",
   "execution_count": 129,
   "metadata": {},
   "outputs": [],
   "source": [
    "from os.path import join"
   ]
  },
  {
   "cell_type": "code",
   "execution_count": 144,
   "metadata": {},
   "outputs": [],
   "source": [
    "#from keras.models import Sequential\n",
    "#from keras.layers import Dense, Activation,Conv2D\n",
    "from sklearn.model_selection import train_test_split\n",
    "from tensorflow.python import keras\n",
    "from tensorflow.python.keras.models import Sequential\n",
    "from tensorflow.python.keras.layers import Dense, Flatten, Conv2D, Dropout\n",
    "from tensorflow.python.keras.preprocessing.image import load_img, img_to_array"
   ]
  },
  {
   "cell_type": "code",
   "execution_count": 161,
   "metadata": {},
   "outputs": [
    {
     "data": {
      "text/html": [
       "<div>\n",
       "<style scoped>\n",
       "    .dataframe tbody tr th:only-of-type {\n",
       "        vertical-align: middle;\n",
       "    }\n",
       "\n",
       "    .dataframe tbody tr th {\n",
       "        vertical-align: top;\n",
       "    }\n",
       "\n",
       "    .dataframe thead th {\n",
       "        text-align: right;\n",
       "    }\n",
       "</style>\n",
       "<table border=\"1\" class=\"dataframe\">\n",
       "  <thead>\n",
       "    <tr style=\"text-align: right;\">\n",
       "      <th></th>\n",
       "      <th>id</th>\n",
       "      <th>breed</th>\n",
       "    </tr>\n",
       "  </thead>\n",
       "  <tbody>\n",
       "    <tr>\n",
       "      <th>0</th>\n",
       "      <td>000bec180eb18c7604dcecc8fe0dba07</td>\n",
       "      <td>boston_bull</td>\n",
       "    </tr>\n",
       "    <tr>\n",
       "      <th>1</th>\n",
       "      <td>001513dfcb2ffafc82cccf4d8bbaba97</td>\n",
       "      <td>dingo</td>\n",
       "    </tr>\n",
       "    <tr>\n",
       "      <th>2</th>\n",
       "      <td>001cdf01b096e06d78e9e5112d419397</td>\n",
       "      <td>pekinese</td>\n",
       "    </tr>\n",
       "    <tr>\n",
       "      <th>3</th>\n",
       "      <td>00214f311d5d2247d5dfe4fe24b2303d</td>\n",
       "      <td>bluetick</td>\n",
       "    </tr>\n",
       "    <tr>\n",
       "      <th>4</th>\n",
       "      <td>0021f9ceb3235effd7fcde7f7538ed62</td>\n",
       "      <td>golden_retriever</td>\n",
       "    </tr>\n",
       "  </tbody>\n",
       "</table>\n",
       "</div>"
      ],
      "text/plain": [
       "                                 id             breed\n",
       "0  000bec180eb18c7604dcecc8fe0dba07       boston_bull\n",
       "1  001513dfcb2ffafc82cccf4d8bbaba97             dingo\n",
       "2  001cdf01b096e06d78e9e5112d419397          pekinese\n",
       "3  00214f311d5d2247d5dfe4fe24b2303d          bluetick\n",
       "4  0021f9ceb3235effd7fcde7f7538ed62  golden_retriever"
      ]
     },
     "execution_count": 161,
     "metadata": {},
     "output_type": "execute_result"
    }
   ],
   "source": [
    "labels1 = pd.read_csv(\"labels.csv\")\n",
    "labels1.head()"
   ]
  },
  {
   "cell_type": "code",
   "execution_count": 170,
   "metadata": {},
   "outputs": [
    {
     "data": {
      "text/plain": [
       "breed    0\n",
       "id       0\n",
       "dtype: int64"
      ]
     },
     "execution_count": 170,
     "metadata": {},
     "output_type": "execute_result"
    }
   ],
   "source": [
    "labels1.isnull().sum().sort_values(ascending=False)"
   ]
  },
  {
   "cell_type": "code",
   "execution_count": null,
   "metadata": {},
   "outputs": [],
   "source": []
  },
  {
   "cell_type": "code",
   "execution_count": 172,
   "metadata": {},
   "outputs": [
    {
     "data": {
      "text/plain": [
       "count    120\n",
       "dtype: int64"
      ]
     },
     "execution_count": 172,
     "metadata": {},
     "output_type": "execute_result"
    }
   ],
   "source": [
    "unique_breeds = labels1.breed.unique()\n",
    "gr_labels = labels1.groupby(\"breed\").count()\n",
    "gr_labels = gr_labels.rename(columns = {\"id\" : \"count\"})\n",
    "gr_labels = gr_labels.sort_values(\"count\", ascending=False)\n",
    "gr_labels.head()\n",
    "len(unique_breeds)"
   ]
  },
  {
   "cell_type": "code",
   "execution_count": 21,
   "metadata": {},
   "outputs": [],
   "source": [
    "a=labels[\"breed\"].unique()"
   ]
  },
  {
   "cell_type": "code",
   "execution_count": 23,
   "metadata": {},
   "outputs": [
    {
     "data": {
      "text/plain": [
       "120"
      ]
     },
     "execution_count": 23,
     "metadata": {},
     "output_type": "execute_result"
    }
   ],
   "source": [
    "a.size"
   ]
  },
  {
   "cell_type": "code",
   "execution_count": 25,
   "metadata": {},
   "outputs": [],
   "source": [
    "dogs=labels.breed.unique()\n",
    "\n",
    "breeds={}\n",
    "\n",
    "num=1\n",
    "for item in dogs:\n",
    "    breeds[item]=num\n",
    "    num+=1\n",
    "    \n",
    "labels.breed=[breeds[item] for item in labels.breed]"
   ]
  },
  {
   "cell_type": "code",
   "execution_count": null,
   "metadata": {},
   "outputs": [],
   "source": []
  },
  {
   "cell_type": "code",
   "execution_count": null,
   "metadata": {},
   "outputs": [],
   "source": [
    "bimg=[]\n",
    "def getImage(id):\n",
    "    \n",
    "    #item =labels.iloc[0:,0][2]\n",
    "    img=cv2.imread(\"D:/Rajat/DataScience/kaggle/DogBreed/train/\"+id+\".jpg\",0)\n",
    "    img=cv2.resize(img,(100,100))\n",
    "    #img=img.reshape(1,10000)\n",
    "    bimg=np.array(img)\n",
    "    #print(type(bimg))\n",
    "    bimg = bimg/255\n",
    "    bimg = bimg.reshape(1, bimg.shape[0], bimg.shape[1],1)\n",
    "    return bimg"
   ]
  },
  {
   "cell_type": "code",
   "execution_count": 168,
   "metadata": {},
   "outputs": [],
   "source": [
    "out_y=keras.utils.to_categorical(labels[\"breed\"])"
   ]
  },
  {
   "cell_type": "code",
   "execution_count": 169,
   "metadata": {},
   "outputs": [
    {
     "data": {
      "text/plain": [
       "(10222, 121)"
      ]
     },
     "execution_count": 169,
     "metadata": {},
     "output_type": "execute_result"
    }
   ],
   "source": [
    "out_y.shape"
   ]
  },
  {
   "cell_type": "code",
   "execution_count": 72,
   "metadata": {},
   "outputs": [
    {
     "data": {
      "text/plain": [
       "(100, 100)"
      ]
     },
     "execution_count": 72,
     "metadata": {},
     "output_type": "execute_result"
    }
   ],
   "source": [
    "labels.ImgData[1].shape"
   ]
  },
  {
   "cell_type": "code",
   "execution_count": 137,
   "metadata": {},
   "outputs": [],
   "source": [
    "img_paths = [join(\"D:/Rajat/DataScience/kaggle/DogBreed/train/\", id+\".jpg\") for id in labels[\"id\"]]"
   ]
  },
  {
   "cell_type": "code",
   "execution_count": 141,
   "metadata": {},
   "outputs": [],
   "source": [
    "img=cv2.imread(img_paths[0])\n",
    "cv2.imshow('t',img)\n",
    "cv2.waitKey(0)\n",
    "cv2.destroyAllWindows()"
   ]
  },
  {
   "cell_type": "code",
   "execution_count": null,
   "metadata": {},
   "outputs": [],
   "source": []
  },
  {
   "cell_type": "code",
   "execution_count": 147,
   "metadata": {},
   "outputs": [],
   "source": [
    "def read_and_prep_images(img_paths, img_height=100, img_width=100):\n",
    "    imgs = [load_img(img_path, target_size=(img_height, img_width)) for img_path in img_paths]\n",
    "    img_array = np.array([img_to_array(img) for img in imgs])\n",
    "    return img_array"
   ]
  },
  {
   "cell_type": "code",
   "execution_count": 148,
   "metadata": {},
   "outputs": [],
   "source": [
    "train_data = read_and_prep_images(img_paths)"
   ]
  },
  {
   "cell_type": "code",
   "execution_count": 150,
   "metadata": {},
   "outputs": [
    {
     "data": {
      "text/plain": [
       "(10222, 100, 100, 3)"
      ]
     },
     "execution_count": 150,
     "metadata": {},
     "output_type": "execute_result"
    }
   ],
   "source": [
    "train_data.shape"
   ]
  },
  {
   "cell_type": "code",
   "execution_count": null,
   "metadata": {},
   "outputs": [],
   "source": []
  },
  {
   "cell_type": "code",
   "execution_count": null,
   "metadata": {},
   "outputs": [],
   "source": []
  },
  {
   "cell_type": "code",
   "execution_count": null,
   "metadata": {},
   "outputs": [],
   "source": []
  },
  {
   "cell_type": "code",
   "execution_count": null,
   "metadata": {},
   "outputs": [],
   "source": []
  },
  {
   "cell_type": "code",
   "execution_count": null,
   "metadata": {},
   "outputs": [],
   "source": []
  },
  {
   "cell_type": "code",
   "execution_count": null,
   "metadata": {},
   "outputs": [],
   "source": [
    "#from skimage.color import rgb2gray\n",
    "img1=cv2.resize(img1,(100,100))\n",
    "#img_grayscale = rgb2gray(img2)\n",
    "plt.imshow(img1)"
   ]
  },
  {
   "cell_type": "code",
   "execution_count": null,
   "metadata": {
    "collapsed": true
   },
   "outputs": [],
   "source": []
  },
  {
   "cell_type": "markdown",
   "metadata": {},
   "source": [
    "# new code##"
   ]
  },
  {
   "cell_type": "code",
   "execution_count": null,
   "metadata": {
    "collapsed": true
   },
   "outputs": [],
   "source": [
    "#dataframeexample\n",
    "#scottish_deerhound_id = labels.loc[labels.breed == \"scottish_deerhound\"].iloc[1, 0]\n",
    "\n",
    "#img=io.imread(\"D:\\RajatLearning\\DataScience\\kaggle\\dogbreed\\dogtrain\\\\\"+scottish_deerhound_id+\".jpg\")"
   ]
  },
  {
   "cell_type": "code",
   "execution_count": 116,
   "metadata": {},
   "outputs": [],
   "source": [
    "bimg=[]\n",
    "def getImage(id):\n",
    "    \n",
    "    #item =labels.iloc[0:,0][2]\n",
    "    img=cv2.imread(\"D:/Rajat/DataScience/kaggle/DogBreed/train/\"+id+\".jpg\",0)\n",
    "    img=cv2.resize(img,(100,100))\n",
    "    #img=img.reshape(1,10000)\n",
    "    bimg=np.array(img)\n",
    "    #print(type(bimg))\n",
    "    bimg = bimg/255\n",
    "    bimg = bimg.reshape(1, bimg.shape[0], bimg.shape[1],1)\n",
    "    return bimg"
   ]
  },
  {
   "cell_type": "code",
   "execution_count": 117,
   "metadata": {},
   "outputs": [],
   "source": [
    "labels[\"ImgData\"]= labels['id'].apply(getImage)\n",
    "#test= labels['id'].apply(getImage)"
   ]
  },
  {
   "cell_type": "code",
   "execution_count": null,
   "metadata": {},
   "outputs": [],
   "source": [
    "def converter(img):\n",
    "    a=img.ImgData\n",
    "    aa=a.reshape(10222,100,100,1)"
   ]
  },
  {
   "cell_type": "code",
   "execution_count": null,
   "metadata": {},
   "outputs": [],
   "source": [
    "def data_prep(raw):\n",
    "    out_y = keras.utils.to_categorical(raw.label, num_classes)\n",
    "\n",
    "    num_images = raw.shape[0]\n",
    "    x_as_array = raw.values[:,1:]\n",
    "    x_shaped_array = x_as_array.reshape(num_images, img_rows, img_cols, 3)\n",
    "    out_x = x_shaped_array / 255\n",
    "    return out_x, out_y"
   ]
  },
  {
   "cell_type": "code",
   "execution_count": null,
   "metadata": {},
   "outputs": [],
   "source": []
  },
  {
   "cell_type": "code",
   "execution_count": null,
   "metadata": {},
   "outputs": [],
   "source": []
  },
  {
   "cell_type": "code",
   "execution_count": null,
   "metadata": {},
   "outputs": [],
   "source": []
  },
  {
   "cell_type": "code",
   "execution_count": null,
   "metadata": {},
   "outputs": [],
   "source": []
  },
  {
   "cell_type": "code",
   "execution_count": 115,
   "metadata": {},
   "outputs": [
    {
     "name": "stdout",
     "output_type": "stream",
     "text": [
      "000bec180eb18c7604dcecc8fe0dba07\n"
     ]
    },
    {
     "data": {
      "text/plain": [
       "(1, 100, 100)"
      ]
     },
     "execution_count": 115,
     "metadata": {},
     "output_type": "execute_result"
    }
   ],
   "source": [
    "print(labels['id'][0])\n",
    "imagess = getImage(labels['id'][0])\n",
    "imagess.shape"
   ]
  },
  {
   "cell_type": "code",
   "execution_count": 114,
   "metadata": {},
   "outputs": [
    {
     "data": {
      "text/html": [
       "<div>\n",
       "<style scoped>\n",
       "    .dataframe tbody tr th:only-of-type {\n",
       "        vertical-align: middle;\n",
       "    }\n",
       "\n",
       "    .dataframe tbody tr th {\n",
       "        vertical-align: top;\n",
       "    }\n",
       "\n",
       "    .dataframe thead th {\n",
       "        text-align: right;\n",
       "    }\n",
       "</style>\n",
       "<table border=\"1\" class=\"dataframe\">\n",
       "  <thead>\n",
       "    <tr style=\"text-align: right;\">\n",
       "      <th></th>\n",
       "      <th>id</th>\n",
       "      <th>breed</th>\n",
       "      <th>ImgData</th>\n",
       "    </tr>\n",
       "  </thead>\n",
       "  <tbody>\n",
       "    <tr>\n",
       "      <th>0</th>\n",
       "      <td>000bec180eb18c7604dcecc8fe0dba07</td>\n",
       "      <td>1</td>\n",
       "      <td>[[[0.47843137254901963, 0.5843137254901961, 0....</td>\n",
       "    </tr>\n",
       "    <tr>\n",
       "      <th>1</th>\n",
       "      <td>001513dfcb2ffafc82cccf4d8bbaba97</td>\n",
       "      <td>2</td>\n",
       "      <td>[[[0.1803921568627451, 0.1568627450980392, 0.1...</td>\n",
       "    </tr>\n",
       "    <tr>\n",
       "      <th>2</th>\n",
       "      <td>001cdf01b096e06d78e9e5112d419397</td>\n",
       "      <td>3</td>\n",
       "      <td>[[[0.4117647058823529, 0.4, 0.4352941176470588...</td>\n",
       "    </tr>\n",
       "    <tr>\n",
       "      <th>3</th>\n",
       "      <td>00214f311d5d2247d5dfe4fe24b2303d</td>\n",
       "      <td>4</td>\n",
       "      <td>[[[0.3568627450980392, 0.3568627450980392, 0.1...</td>\n",
       "    </tr>\n",
       "    <tr>\n",
       "      <th>4</th>\n",
       "      <td>0021f9ceb3235effd7fcde7f7538ed62</td>\n",
       "      <td>5</td>\n",
       "      <td>[[[0.3176470588235294, 0.3176470588235294, 0.3...</td>\n",
       "    </tr>\n",
       "  </tbody>\n",
       "</table>\n",
       "</div>"
      ],
      "text/plain": [
       "                                 id  breed  \\\n",
       "0  000bec180eb18c7604dcecc8fe0dba07      1   \n",
       "1  001513dfcb2ffafc82cccf4d8bbaba97      2   \n",
       "2  001cdf01b096e06d78e9e5112d419397      3   \n",
       "3  00214f311d5d2247d5dfe4fe24b2303d      4   \n",
       "4  0021f9ceb3235effd7fcde7f7538ed62      5   \n",
       "\n",
       "                                             ImgData  \n",
       "0  [[[0.47843137254901963, 0.5843137254901961, 0....  \n",
       "1  [[[0.1803921568627451, 0.1568627450980392, 0.1...  \n",
       "2  [[[0.4117647058823529, 0.4, 0.4352941176470588...  \n",
       "3  [[[0.3568627450980392, 0.3568627450980392, 0.1...  \n",
       "4  [[[0.3176470588235294, 0.3176470588235294, 0.3...  "
      ]
     },
     "execution_count": 114,
     "metadata": {},
     "output_type": "execute_result"
    }
   ],
   "source": [
    "labels.head()"
   ]
  },
  {
   "cell_type": "code",
   "execution_count": 119,
   "metadata": {},
   "outputs": [
    {
     "data": {
      "text/plain": [
       "(100, 100)"
      ]
     },
     "execution_count": 119,
     "metadata": {},
     "output_type": "execute_result"
    }
   ],
   "source": [
    "labels.ImgData[10].shape"
   ]
  },
  {
   "cell_type": "code",
   "execution_count": 121,
   "metadata": {},
   "outputs": [],
   "source": [
    "out_x=labels.ImgData"
   ]
  },
  {
   "cell_type": "code",
   "execution_count": 160,
   "metadata": {},
   "outputs": [
    {
     "data": {
      "text/plain": [
       "array([  1,   2,   3,   4,   5,   6,   7,   8,   9,  10,  11,  12,  13,\n",
       "        14,  15,  16,  17,  18,  19,  20,  21,  22,  23,  24,  25,  26,\n",
       "        27,  28,  29,  30,  31,  32,  33,  34,  35,  36,  37,  38,  39,\n",
       "        40,  41,  42,  43,  44,  45,  46,  47,  48,  49,  50,  51,  52,\n",
       "        53,  54,  55,  56,  57,  58,  59,  60,  61,  62,  63,  64,  65,\n",
       "        66,  67,  68,  69,  70,  71,  72,  73,  74,  75,  76,  77,  78,\n",
       "        79,  80,  81,  82,  83,  84,  85,  86,  87,  88,  89,  90,  91,\n",
       "        92,  93,  94,  95,  96,  97,  98,  99, 100, 101, 102, 103, 104,\n",
       "       105, 106, 107, 108, 109, 110, 111, 112, 113, 114, 115, 116, 117,\n",
       "       118, 119, 120], dtype=int64)"
      ]
     },
     "execution_count": 160,
     "metadata": {},
     "output_type": "execute_result"
    }
   ],
   "source": [
    "labels.breed.unique()"
   ]
  },
  {
   "cell_type": "code",
   "execution_count": 58,
   "metadata": {},
   "outputs": [],
   "source": [
    "out_y=keras.utils.to_categorical(labels.breed) "
   ]
  },
  {
   "cell_type": "code",
   "execution_count": 126,
   "metadata": {},
   "outputs": [
    {
     "data": {
      "text/plain": [
       "0        [[0.47843137254901963, 0.5843137254901961, 0.4...\n",
       "1        [[0.1803921568627451, 0.1568627450980392, 0.18...\n",
       "2        [[0.4117647058823529, 0.4, 0.43529411764705883...\n",
       "3        [[0.3568627450980392, 0.3568627450980392, 0.18...\n",
       "4        [[0.3176470588235294, 0.3176470588235294, 0.31...\n",
       "5        [[0.5176470588235295, 0.6274509803921569, 0.57...\n",
       "6        [[0.023529411764705882, 0.01568627450980392, 0...\n",
       "7        [[0.3843137254901961, 0.37254901960784315, 0.3...\n",
       "8        [[0.4745098039215686, 0.5450980392156862, 0.58...\n",
       "9        [[0.027450980392156862, 0.0392156862745098, 0....\n",
       "10       [[0.3215686274509804, 0.4392156862745098, 0.4,...\n",
       "11       [[0.0196078431372549, 0.058823529411764705, 0....\n",
       "12       [[0.27058823529411763, 0.24313725490196078, 0....\n",
       "13       [[0.5607843137254902, 0.5450980392156862, 0.57...\n",
       "14       [[0.20392156862745098, 0.1843137254901961, 0.2...\n",
       "15       [[0.5019607843137255, 0.5372549019607843, 0.38...\n",
       "16       [[0.2, 0.20392156862745098, 0.2, 0.19607843137...\n",
       "17       [[0.7764705882352941, 0.40784313725490196, 0.4...\n",
       "18       [[0.00784313725490196, 0.00784313725490196, 0....\n",
       "19       [[0.14901960784313725, 0.1450980392156863, 0.1...\n",
       "20       [[0.44313725490196076, 0.4745098039215686, 0.4...\n",
       "21       [[0.3568627450980392, 0.33725490196078434, 0.3...\n",
       "22       [[0.25098039215686274, 0.11372549019607843, 0....\n",
       "23       [[0.9647058823529412, 0.4470588235294118, 0.45...\n",
       "24       [[0.03529411764705882, 0.07058823529411765, 0....\n",
       "25       [[0.35294117647058826, 0.5450980392156862, 0.5...\n",
       "26       [[0.3333333333333333, 0.29411764705882354, 0.3...\n",
       "27       [[0.5725490196078431, 0.9098039215686274, 0.91...\n",
       "28       [[0.5490196078431373, 0.5254901960784314, 0.54...\n",
       "29       [[0.03529411764705882, 0.058823529411764705, 0...\n",
       "                               ...                        \n",
       "10192    [[0.3176470588235294, 0.43137254901960786, 0.4...\n",
       "10193    [[0.9686274509803922, 0.9450980392156862, 0.96...\n",
       "10194    [[0.09803921568627451, 0.21568627450980393, 0....\n",
       "10195    [[0.9019607843137255, 0.9450980392156862, 0.99...\n",
       "10196    [[0.23137254901960785, 0.23921568627450981, 0....\n",
       "10197    [[0.5647058823529412, 0.5686274509803921, 0.57...\n",
       "10198    [[0.8352941176470589, 0.8627450980392157, 0.86...\n",
       "10199    [[0.7254901960784313, 0.7490196078431373, 0.74...\n",
       "10200    [[0.08235294117647059, 0.08235294117647059, 0....\n",
       "10201    [[0.00392156862745098, 0.00392156862745098, 0....\n",
       "10202    [[0.08627450980392157, 0.11764705882352941, 0....\n",
       "10203    [[0.0784313725490196, 0.10196078431372549, 0.0...\n",
       "10204    [[0.9921568627450981, 0.9921568627450981, 0.99...\n",
       "10205    [[0.027450980392156862, 0.0196078431372549, 0....\n",
       "10206    [[0.7019607843137254, 0.7098039215686275, 0.71...\n",
       "10207    [[0.396078431372549, 0.4, 0.35294117647058826,...\n",
       "10208    [[0.9921568627450981, 0.9921568627450981, 0.94...\n",
       "10209    [[0.6705882352941176, 0.6941176470588235, 0.69...\n",
       "10210    [[0.9137254901960784, 0.9450980392156862, 0.76...\n",
       "10211    [[0.5725490196078431, 0.6392156862745098, 0.61...\n",
       "10212    [[0.2235294117647059, 0.2549019607843137, 0.21...\n",
       "10213    [[0.13725490196078433, 0.4196078431372549, 0.1...\n",
       "10214    [[0.49019607843137253, 0.47843137254901963, 0....\n",
       "10215    [[0.6235294117647059, 0.6235294117647059, 0.63...\n",
       "10216    [[0.027450980392156862, 0.07058823529411765, 0...\n",
       "10217    [[0.7843137254901961, 0.792156862745098, 0.792...\n",
       "10218    [[0.611764705882353, 0.611764705882353, 0.6156...\n",
       "10219    [[0.00392156862745098, 0.00392156862745098, 0....\n",
       "10220    [[0.6470588235294118, 0.6705882352941176, 0.65...\n",
       "10221    [[0.7490196078431373, 0.7176470588235294, 0.73...\n",
       "Name: ImgData, Length: 10222, dtype: object"
      ]
     },
     "execution_count": 126,
     "metadata": {},
     "output_type": "execute_result"
    }
   ],
   "source": [
    "out_x"
   ]
  },
  {
   "cell_type": "code",
   "execution_count": 54,
   "metadata": {},
   "outputs": [],
   "source": [
    "labels.to_csv(\"imageData_keras.csv\",sep=',', encoding='utf-8');"
   ]
  },
  {
   "cell_type": "code",
   "execution_count": 176,
   "metadata": {},
   "outputs": [],
   "source": [
    "model=Sequential()\n",
    "model.add(Conv2D(20,kernel_size=(3,3),activation='relu',input_shape=(100,100,3)))\n",
    "model.add(Conv2D(20,kernel_size=(3,3),activation='relu'))\n",
    "model.add(Conv2D(20,kernel_size=(3,3),activation='relu'))\n",
    "model.add(Conv2D(20,kernel_size=(3,3),activation='relu'))\n",
    "model.add(Conv2D(20,kernel_size=(3,3),activation='relu'))\n",
    "model.add(Conv2D(20,kernel_size=(3,3),activation='relu'))\n",
    "model.add(Conv2D(20,kernel_size=(3,3),activation='relu'))\n",
    "model.add(Conv2D(20,kernel_size=(3,3),activation='relu'))\n",
    "model.add(Flatten())\n",
    "model.add(Dense(128,activation='relu'))\n",
    "model.add(Dense(128,activation='relu'))\n",
    "model.add(Dense(128,activation='relu'))\n",
    "model.add(Dense(128,activation='relu'))\n",
    "model.add(Dense(128,activation='relu'))\n",
    "model.add(Dense(128,activation='relu'))\n",
    "model.add(Dense(128,activation='relu'))\n",
    "model.add(Dense(121,activation='softmax'))"
   ]
  },
  {
   "cell_type": "code",
   "execution_count": 177,
   "metadata": {},
   "outputs": [],
   "source": [
    "model.compile(loss=keras.losses.categorical_crossentropy,optimizer='adam',metrics=['accuracy'])"
   ]
  },
  {
   "cell_type": "code",
   "execution_count": 155,
   "metadata": {},
   "outputs": [
    {
     "data": {
      "text/plain": [
       "array([[0., 1., 0., ..., 0., 0., 0.],\n",
       "       [0., 0., 1., ..., 0., 0., 0.],\n",
       "       [0., 0., 0., ..., 0., 0., 0.],\n",
       "       ...,\n",
       "       [0., 0., 0., ..., 0., 0., 0.],\n",
       "       [0., 0., 0., ..., 0., 0., 0.],\n",
       "       [0., 0., 0., ..., 0., 0., 0.]])"
      ]
     },
     "execution_count": 155,
     "metadata": {},
     "output_type": "execute_result"
    }
   ],
   "source": [
    "out_y"
   ]
  },
  {
   "cell_type": "code",
   "execution_count": 178,
   "metadata": {},
   "outputs": [
    {
     "name": "stdout",
     "output_type": "stream",
     "text": [
      "Train on 8177 samples, validate on 2045 samples\n",
      "Epoch 1/2\n",
      "8177/8177 [==============================] - 621s 76ms/step - loss: 5.1415 - acc: 0.0114 - val_loss: 4.7945 - val_acc: 0.0127\n",
      "Epoch 2/2\n",
      "8177/8177 [==============================] - 594s 73ms/step - loss: 4.7900 - acc: 0.0100 - val_loss: 4.7924 - val_acc: 0.0137\n"
     ]
    },
    {
     "data": {
      "text/plain": [
       "<tensorflow.python.keras._impl.keras.callbacks.History at 0x284db5acb70>"
      ]
     },
     "execution_count": 178,
     "metadata": {},
     "output_type": "execute_result"
    }
   ],
   "source": [
    "model.fit(train_data, out_y,\n",
    "          batch_size=128,\n",
    "          epochs=2,\n",
    "          validation_split = 0.2)"
   ]
  },
  {
   "cell_type": "code",
   "execution_count": 60,
   "metadata": {},
   "outputs": [
    {
     "data": {
      "text/plain": [
       "id         10222\n",
       "breed      10222\n",
       "ImgData    10222\n",
       "dtype: int64"
      ]
     },
     "execution_count": 60,
     "metadata": {},
     "output_type": "execute_result"
    }
   ],
   "source": []
  },
  {
   "cell_type": "code",
   "execution_count": null,
   "metadata": {},
   "outputs": [],
   "source": []
  },
  {
   "cell_type": "code",
   "execution_count": null,
   "metadata": {},
   "outputs": [],
   "source": []
  },
  {
   "cell_type": "markdown",
   "metadata": {
    "collapsed": true
   },
   "source": [
    "# Recignition"
   ]
  },
  {
   "cell_type": "code",
   "execution_count": 32,
   "metadata": {},
   "outputs": [],
   "source": []
  },
  {
   "cell_type": "code",
   "execution_count": 29,
   "metadata": {},
   "outputs": [],
   "source": [
    "dataX=labels['ImgData']"
   ]
  },
  {
   "cell_type": "code",
   "execution_count": 30,
   "metadata": {},
   "outputs": [],
   "source": [
    "dataY=labels['breed']"
   ]
  },
  {
   "cell_type": "code",
   "execution_count": null,
   "metadata": {},
   "outputs": [],
   "source": []
  },
  {
   "cell_type": "code",
   "execution_count": 33,
   "metadata": {},
   "outputs": [],
   "source": [
    "X_train, X_test, y_train, y_test = train_test_split(dataX, dataY, test_size=0.33, random_state=42)"
   ]
  },
  {
   "cell_type": "code",
   "execution_count": 34,
   "metadata": {},
   "outputs": [],
   "source": [
    "from sklearn.svm import SVC"
   ]
  },
  {
   "cell_type": "code",
   "execution_count": 36,
   "metadata": {},
   "outputs": [],
   "source": [
    "est=SVC()"
   ]
  },
  {
   "cell_type": "code",
   "execution_count": null,
   "metadata": {},
   "outputs": [],
   "source": [
    "est.fit(X_train,y_train)"
   ]
  },
  {
   "cell_type": "code",
   "execution_count": null,
   "metadata": {
    "collapsed": true
   },
   "outputs": [],
   "source": [
    "espredict=est.predict(X_test)"
   ]
  },
  {
   "cell_type": "code",
   "execution_count": null,
   "metadata": {
    "collapsed": true
   },
   "outputs": [],
   "source": [
    "from sklearn.metrics import confusion_matrix,classification_report"
   ]
  }
 ],
 "metadata": {
  "kernelspec": {
   "display_name": "Python 3",
   "language": "python",
   "name": "python3"
  },
  "language_info": {
   "codemirror_mode": {
    "name": "ipython",
    "version": 3
   },
   "file_extension": ".py",
   "mimetype": "text/x-python",
   "name": "python",
   "nbconvert_exporter": "python",
   "pygments_lexer": "ipython3",
   "version": "3.6.4"
  }
 },
 "nbformat": 4,
 "nbformat_minor": 2
}
