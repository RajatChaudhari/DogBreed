{
 "cells": [
  {
   "cell_type": "code",
   "execution_count": 1,
   "metadata": {},
   "outputs": [],
   "source": [
    "import numpy as np # linear algebra\n",
    "import pandas as pd # data processing, CSV file I/O (e.g. pd.read_csv)\n",
    "#from PIL import Image\n",
    "#from scipy import ndimage, misc\n",
    "import matplotlib.pyplot as plt\n",
    "%matplotlib inline\n",
    "#import skimage.io as io\n",
    "#from skimage.color import rgb2gray\n",
    "import cv2"
   ]
  },
  {
   "cell_type": "code",
   "execution_count": 51,
   "metadata": {},
   "outputs": [],
   "source": [
    "import tensorflow as tf"
   ]
  },
  {
   "cell_type": "code",
   "execution_count": 52,
   "metadata": {},
   "outputs": [],
   "source": [
    "from os.path import join\n",
    "#from keras.models import Sequential\n",
    "#from keras.layers import Dense, Activation,Conv2D\n",
    "from sklearn.model_selection import train_test_split\n",
    "from tensorflow.python import keras\n",
    "from tensorflow.python.keras.models import Sequential\n",
    "from tensorflow.python.keras.layers import Dense, Flatten, Conv2D, Dropout,BatchNormalization,GlobalMaxPooling1D,MaxPooling1D,MaxPooling2D,MaxPool3D\n",
    "from tensorflow.python.keras.preprocessing.image import load_img, img_to_array"
   ]
  },
  {
   "cell_type": "code",
   "execution_count": 3,
   "metadata": {},
   "outputs": [
    {
     "data": {
      "text/html": [
       "<div>\n",
       "<style scoped>\n",
       "    .dataframe tbody tr th:only-of-type {\n",
       "        vertical-align: middle;\n",
       "    }\n",
       "\n",
       "    .dataframe tbody tr th {\n",
       "        vertical-align: top;\n",
       "    }\n",
       "\n",
       "    .dataframe thead th {\n",
       "        text-align: right;\n",
       "    }\n",
       "</style>\n",
       "<table border=\"1\" class=\"dataframe\">\n",
       "  <thead>\n",
       "    <tr style=\"text-align: right;\">\n",
       "      <th></th>\n",
       "      <th>id</th>\n",
       "      <th>breed</th>\n",
       "    </tr>\n",
       "  </thead>\n",
       "  <tbody>\n",
       "    <tr>\n",
       "      <th>0</th>\n",
       "      <td>000bec180eb18c7604dcecc8fe0dba07</td>\n",
       "      <td>boston_bull</td>\n",
       "    </tr>\n",
       "    <tr>\n",
       "      <th>1</th>\n",
       "      <td>001513dfcb2ffafc82cccf4d8bbaba97</td>\n",
       "      <td>dingo</td>\n",
       "    </tr>\n",
       "    <tr>\n",
       "      <th>2</th>\n",
       "      <td>001cdf01b096e06d78e9e5112d419397</td>\n",
       "      <td>pekinese</td>\n",
       "    </tr>\n",
       "    <tr>\n",
       "      <th>3</th>\n",
       "      <td>00214f311d5d2247d5dfe4fe24b2303d</td>\n",
       "      <td>bluetick</td>\n",
       "    </tr>\n",
       "    <tr>\n",
       "      <th>4</th>\n",
       "      <td>0021f9ceb3235effd7fcde7f7538ed62</td>\n",
       "      <td>golden_retriever</td>\n",
       "    </tr>\n",
       "  </tbody>\n",
       "</table>\n",
       "</div>"
      ],
      "text/plain": [
       "                                 id             breed\n",
       "0  000bec180eb18c7604dcecc8fe0dba07       boston_bull\n",
       "1  001513dfcb2ffafc82cccf4d8bbaba97             dingo\n",
       "2  001cdf01b096e06d78e9e5112d419397          pekinese\n",
       "3  00214f311d5d2247d5dfe4fe24b2303d          bluetick\n",
       "4  0021f9ceb3235effd7fcde7f7538ed62  golden_retriever"
      ]
     },
     "execution_count": 3,
     "metadata": {},
     "output_type": "execute_result"
    }
   ],
   "source": [
    "labels = pd.read_csv(\"labels.csv\")\n",
    "labels.head()"
   ]
  },
  {
   "cell_type": "code",
   "execution_count": null,
   "metadata": {},
   "outputs": [],
   "source": [
    "#find unique breed\n",
    "unique_breeds = labels.breed.unique()\n",
    "#get count of each breed\n",
    "gr_labels = labels.groupby(\"breed\").count()\n",
    "#rename the columns of the dataframe\n",
    "gr_labels = gr_labels.rename(columns = {\"id\" : \"count\"})\n",
    "#sort them\n",
    "gr_labels = gr_labels.sort_values(\"count\", ascending=False)\n",
    "gr_labels.head()\n",
    "len(unique_breeds)"
   ]
  },
  {
   "cell_type": "code",
   "execution_count": null,
   "metadata": {},
   "outputs": [],
   "source": [
    "#reading imanges and saving them as columns in Dataframe\n",
    "bimg=[]\n",
    "def getImage(id):\n",
    "    \n",
    "    #item =labels.iloc[0:,0][2]\n",
    "    img=cv2.imread(\"D:/Rajat/DataScience/kaggle/DogBreed/train/\"+id+\".jpg\",0)\n",
    "    img=cv2.resize(img,(100,100))\n",
    "    #img=img.reshape(1,10000)\n",
    "    bimg=np.array(img)\n",
    "    #print(type(bimg))\n",
    "    bimg = bimg/255\n",
    "    bimg = bimg.reshape(1, bimg.shape[0], bimg.shape[1],1)\n",
    "    return bimg"
   ]
  },
  {
   "cell_type": "code",
   "execution_count": null,
   "metadata": {},
   "outputs": [],
   "source": [
    "labels[\"ImgData\"]= labels['id'].apply(getImage)"
   ]
  },
  {
   "cell_type": "code",
   "execution_count": 18,
   "metadata": {},
   "outputs": [],
   "source": [
    "#convert breed from categories to numbers\n",
    "dogs=labels.breed.unique()\n",
    "\n",
    "breeds={}\n",
    "\n",
    "num=0\n",
    "for item in dogs:\n",
    "    breeds[item]=num\n",
    "    num+=1\n",
    "    \n",
    "labels.breed=[breeds[item] for item in labels.breed]"
   ]
  },
  {
   "cell_type": "code",
   "execution_count": 4,
   "metadata": {},
   "outputs": [],
   "source": [
    "#creating a dataframe with full Image Path\n",
    "img_paths = [join(\"D:/Rajat/DataScience/kaggle/DogBreed/train/\", id+\".jpg\") for id in labels[\"id\"]]"
   ]
  },
  {
   "cell_type": "code",
   "execution_count": null,
   "metadata": {},
   "outputs": [],
   "source": []
  },
  {
   "cell_type": "code",
   "execution_count": 7,
   "metadata": {},
   "outputs": [],
   "source": [
    "def read_and_prep_images(img_paths, img_height=100, img_width=100):\n",
    "    imgs = [load_img(img_path, target_size=(img_height, img_width)) for img_path in img_paths]\n",
    "    img_array = np.array([img_to_array(img) for img in imgs])\n",
    "    return img_array"
   ]
  },
  {
   "cell_type": "code",
   "execution_count": 8,
   "metadata": {},
   "outputs": [],
   "source": [
    "train_data = read_and_prep_images(img_paths)"
   ]
  },
  {
   "cell_type": "code",
   "execution_count": 11,
   "metadata": {},
   "outputs": [
    {
     "data": {
      "text/plain": [
       "(10222, 100, 100, 3)"
      ]
     },
     "execution_count": 11,
     "metadata": {},
     "output_type": "execute_result"
    }
   ],
   "source": [
    "train_data.shape"
   ]
  },
  {
   "cell_type": "code",
   "execution_count": 19,
   "metadata": {},
   "outputs": [],
   "source": [
    "out_y=keras.utils.to_categorical(labels[\"breed\"])"
   ]
  },
  {
   "cell_type": "code",
   "execution_count": null,
   "metadata": {},
   "outputs": [],
   "source": []
  },
  {
   "cell_type": "code",
   "execution_count": 137,
   "metadata": {},
   "outputs": [],
   "source": []
  },
  {
   "cell_type": "code",
   "execution_count": 141,
   "metadata": {},
   "outputs": [],
   "source": [
    "img=cv2.imread(img_paths[0])\n",
    "cv2.imshow('t',img)\n",
    "cv2.waitKey(0)\n",
    "cv2.destroyAllWindows()"
   ]
  },
  {
   "cell_type": "code",
   "execution_count": null,
   "metadata": {},
   "outputs": [],
   "source": [
    "#from skimage.color import rgb2gray\n",
    "img1=cv2.resize(img1,(100,100))\n",
    "#img_grayscale = rgb2gray(img2)\n",
    "plt.imshow(img1)"
   ]
  },
  {
   "cell_type": "code",
   "execution_count": null,
   "metadata": {
    "collapsed": true
   },
   "outputs": [],
   "source": []
  },
  {
   "cell_type": "markdown",
   "metadata": {},
   "source": [
    "# Model##"
   ]
  },
  {
   "cell_type": "code",
   "execution_count": 54,
   "metadata": {},
   "outputs": [],
   "source": [
    "model=Sequential()\n",
    "model.add(Conv2D(64,kernel_size=(3,3),strides=2,activation='relu',input_shape=(100,100,3)))\n",
    "model.add(BatchNormalization())\n",
    "model.add(Conv2D(128,kernel_size=(3,3),strides=2,activation='relu'))\n",
    "model.add(Conv2D(256,kernel_size=(3,3),strides=2,activation='relu'))\n",
    "model.add(Dropout(.30))\n",
    "model.add(Conv2D(64,kernel_size=(3,3),activation='relu'))\n",
    "model.add(Conv2D(64,kernel_size=(3,3),activation='relu'))\n",
    "model.add(Conv2D(128,kernel_size=(3,3),activation='relu'))\n",
    "model.add(Dropout(.50))\n",
    "model.add(Conv2D(32,kernel_size=(3,3),activation='relu'))\n",
    "model.add(BatchNormalization())\n",
    "model.add(Conv2D(32,kernel_size=(3,3),activation='relu'))\n",
    "model.add(Flatten())\n",
    "model.add(Dense(256,activation='relu'))\n",
    "model.add(Dense(128,activation='relu'))\n",
    "model.add(Dropout(.30))\n",
    "model.add(Dense(256,activation='relu'))\n",
    "model.add(BatchNormalization())\n",
    "model.add(Dense(128,activation='relu'))\n",
    "model.add(Dropout(.30))\n",
    "model.add(Dense(256,activation='relu'))\n",
    "model.add(BatchNormalization())\n",
    "model.add(Dense(128,activation='relu'))\n",
    "model.add(Flatten())\n",
    "model.add(Dense(128,activation='relu'))\n",
    "model.add(Dense(120,activation='softmax'))"
   ]
  },
  {
   "cell_type": "code",
   "execution_count": 55,
   "metadata": {},
   "outputs": [],
   "source": [
    "model.compile(loss=keras.losses.categorical_crossentropy,optimizer='adam',metrics=['accuracy'])"
   ]
  },
  {
   "cell_type": "code",
   "execution_count": 56,
   "metadata": {},
   "outputs": [],
   "source": [
    "X_train, X_test, y_train, y_test = train_test_split(train_data, out_y, test_size=0.33, random_state=42)"
   ]
  },
  {
   "cell_type": "code",
   "execution_count": 57,
   "metadata": {},
   "outputs": [
    {
     "name": "stdout",
     "output_type": "stream",
     "text": [
      "Train on 5478 samples, validate on 1370 samples\n",
      "Epoch 1/150\n",
      "5478/5478 [==============================] - 164s 30ms/step - loss: 4.8633 - acc: 0.0088 - val_loss: 4.7906 - val_acc: 0.0058\n",
      "Epoch 2/150\n",
      "5478/5478 [==============================] - 157s 29ms/step - loss: 4.8036 - acc: 0.0102 - val_loss: 4.7844 - val_acc: 0.0080\n",
      "Epoch 3/150\n",
      "5478/5478 [==============================] - 164s 30ms/step - loss: 4.7672 - acc: 0.0148 - val_loss: 4.7524 - val_acc: 0.0109\n",
      "Epoch 4/150\n",
      "5478/5478 [==============================] - 154s 28ms/step - loss: 4.7176 - acc: 0.0192 - val_loss: 4.7199 - val_acc: 0.0168\n",
      "Epoch 5/150\n",
      "5478/5478 [==============================] - 157s 29ms/step - loss: 4.6766 - acc: 0.0192 - val_loss: 4.7460 - val_acc: 0.0109\n",
      "Epoch 6/150\n",
      "5478/5478 [==============================] - 166s 30ms/step - loss: 4.6509 - acc: 0.0175 - val_loss: 4.7256 - val_acc: 0.0117\n",
      "Epoch 7/150\n",
      "5478/5478 [==============================] - 159s 29ms/step - loss: 4.6257 - acc: 0.0197 - val_loss: 4.7249 - val_acc: 0.0161\n",
      "Epoch 8/150\n",
      "5478/5478 [==============================] - 154s 28ms/step - loss: 4.6070 - acc: 0.0201 - val_loss: 4.6304 - val_acc: 0.0219\n",
      "Epoch 9/150\n",
      "5478/5478 [==============================] - 155s 28ms/step - loss: 4.5962 - acc: 0.0203 - val_loss: 4.6098 - val_acc: 0.0212\n",
      "Epoch 10/150\n",
      "5478/5478 [==============================] - 152s 28ms/step - loss: 4.5846 - acc: 0.0206 - val_loss: 4.6002 - val_acc: 0.0197\n",
      "Epoch 11/150\n",
      "5478/5478 [==============================] - 151s 28ms/step - loss: 4.5669 - acc: 0.0206 - val_loss: 4.7400 - val_acc: 0.0153\n",
      "Epoch 12/150\n",
      "5478/5478 [==============================] - 151s 28ms/step - loss: 4.5657 - acc: 0.0219 - val_loss: 4.6279 - val_acc: 0.0168\n",
      "Epoch 13/150\n",
      "5478/5478 [==============================] - 154s 28ms/step - loss: 4.5431 - acc: 0.0210 - val_loss: 4.5831 - val_acc: 0.0146\n",
      "Epoch 14/150\n",
      "5478/5478 [==============================] - 153s 28ms/step - loss: 4.5326 - acc: 0.0248 - val_loss: 4.6802 - val_acc: 0.0139\n",
      "Epoch 15/150\n",
      "5478/5478 [==============================] - 152s 28ms/step - loss: 4.5136 - acc: 0.0245 - val_loss: 4.5936 - val_acc: 0.0219\n",
      "Epoch 16/150\n",
      "5478/5478 [==============================] - 153s 28ms/step - loss: 4.4999 - acc: 0.0261 - val_loss: 4.6443 - val_acc: 0.0124\n",
      "Epoch 17/150\n",
      "5478/5478 [==============================] - 152s 28ms/step - loss: 4.4947 - acc: 0.0243 - val_loss: 4.5853 - val_acc: 0.0153\n",
      "Epoch 18/150\n",
      "5478/5478 [==============================] - 159s 29ms/step - loss: 4.4794 - acc: 0.0246 - val_loss: 4.7138 - val_acc: 0.0168\n",
      "Epoch 19/150\n",
      "5478/5478 [==============================] - 155s 28ms/step - loss: 4.4737 - acc: 0.0230 - val_loss: 4.5379 - val_acc: 0.0248\n",
      "Epoch 20/150\n",
      "5478/5478 [==============================] - 152s 28ms/step - loss: 4.4515 - acc: 0.0237 - val_loss: 4.5624 - val_acc: 0.0263\n",
      "Epoch 21/150\n",
      "5478/5478 [==============================] - 153s 28ms/step - loss: 4.4328 - acc: 0.0267 - val_loss: 4.6005 - val_acc: 0.0153\n",
      "Epoch 22/150\n",
      "5478/5478 [==============================] - 152s 28ms/step - loss: 4.4021 - acc: 0.0274 - val_loss: 4.6812 - val_acc: 0.0219\n",
      "Epoch 23/150\n",
      "5478/5478 [==============================] - 152s 28ms/step - loss: 4.3954 - acc: 0.0330 - val_loss: 5.3456 - val_acc: 0.0088\n",
      "Epoch 24/150\n",
      "5478/5478 [==============================] - 151s 28ms/step - loss: 4.3690 - acc: 0.0285 - val_loss: 4.6206 - val_acc: 0.0197\n",
      "Epoch 25/150\n",
      "5478/5478 [==============================] - 153s 28ms/step - loss: 4.3659 - acc: 0.0281 - val_loss: 4.6519 - val_acc: 0.0182\n",
      "Epoch 26/150\n",
      "5478/5478 [==============================] - 155s 28ms/step - loss: 4.3278 - acc: 0.0290 - val_loss: 4.6369 - val_acc: 0.0234\n",
      "Epoch 27/150\n",
      "5478/5478 [==============================] - 149s 27ms/step - loss: 4.3058 - acc: 0.0310 - val_loss: 4.6056 - val_acc: 0.0197\n",
      "Epoch 28/150\n",
      "5478/5478 [==============================] - 149s 27ms/step - loss: 4.2599 - acc: 0.0343 - val_loss: 5.2611 - val_acc: 0.0139\n",
      "Epoch 29/150\n",
      "5478/5478 [==============================] - 153s 28ms/step - loss: 4.2355 - acc: 0.0325 - val_loss: 4.9211 - val_acc: 0.0270\n",
      "Epoch 30/150\n",
      "5478/5478 [==============================] - 147s 27ms/step - loss: 4.2101 - acc: 0.0369 - val_loss: 4.8083 - val_acc: 0.0285\n",
      "Epoch 31/150\n",
      "5478/5478 [==============================] - 149s 27ms/step - loss: 4.1743 - acc: 0.0418 - val_loss: 4.7659 - val_acc: 0.0226\n",
      "Epoch 32/150\n",
      "5478/5478 [==============================] - 150s 27ms/step - loss: 4.1561 - acc: 0.0396 - val_loss: 4.7831 - val_acc: 0.0314\n",
      "Epoch 33/150\n",
      "5478/5478 [==============================] - 149s 27ms/step - loss: 4.1229 - acc: 0.0414 - val_loss: 4.7663 - val_acc: 0.0255\n",
      "Epoch 34/150\n",
      "5478/5478 [==============================] - 149s 27ms/step - loss: 4.0962 - acc: 0.0371 - val_loss: 4.7577 - val_acc: 0.0328\n",
      "Epoch 35/150\n",
      "5478/5478 [==============================] - 149s 27ms/step - loss: 4.0659 - acc: 0.0394 - val_loss: 4.8742 - val_acc: 0.0285\n",
      "Epoch 36/150\n",
      "5478/5478 [==============================] - 149s 27ms/step - loss: 4.0231 - acc: 0.0458 - val_loss: 4.8630 - val_acc: 0.0255\n",
      "Epoch 37/150\n",
      "5478/5478 [==============================] - 151s 28ms/step - loss: 3.9813 - acc: 0.0478 - val_loss: 4.9531 - val_acc: 0.0255\n",
      "Epoch 38/150\n",
      "5478/5478 [==============================] - 149s 27ms/step - loss: 3.9524 - acc: 0.0473 - val_loss: 4.9282 - val_acc: 0.0212\n",
      "Epoch 39/150\n",
      "5478/5478 [==============================] - 152s 28ms/step - loss: 3.8805 - acc: 0.0484 - val_loss: 5.3299 - val_acc: 0.0146\n",
      "Epoch 40/150\n",
      "5478/5478 [==============================] - 149s 27ms/step - loss: 3.8940 - acc: 0.0553 - val_loss: 5.1090 - val_acc: 0.0234\n",
      "Epoch 41/150\n",
      "5478/5478 [==============================] - 150s 27ms/step - loss: 3.8721 - acc: 0.0513 - val_loss: 5.0867 - val_acc: 0.0277\n",
      "Epoch 42/150\n",
      "5478/5478 [==============================] - 150s 27ms/step - loss: 3.8282 - acc: 0.0579 - val_loss: 5.1315 - val_acc: 0.0292\n",
      "Epoch 43/150\n",
      "5478/5478 [==============================] - 159s 29ms/step - loss: 3.7556 - acc: 0.0628 - val_loss: 5.0740 - val_acc: 0.0285\n",
      "Epoch 44/150\n",
      "5478/5478 [==============================] - 164s 30ms/step - loss: 3.7333 - acc: 0.0606 - val_loss: 5.2792 - val_acc: 0.0248\n",
      "Epoch 45/150\n",
      "5478/5478 [==============================] - 160s 29ms/step - loss: 3.7156 - acc: 0.0666 - val_loss: 5.1850 - val_acc: 0.0307\n",
      "Epoch 46/150\n",
      "5478/5478 [==============================] - 153s 28ms/step - loss: 3.6594 - acc: 0.0701 - val_loss: 5.3052 - val_acc: 0.0336\n",
      "Epoch 47/150\n",
      "5478/5478 [==============================] - 162s 30ms/step - loss: 3.6337 - acc: 0.0721 - val_loss: 5.4027 - val_acc: 0.0204\n",
      "Epoch 48/150\n",
      "5478/5478 [==============================] - 165s 30ms/step - loss: 3.5806 - acc: 0.0737 - val_loss: 5.8340 - val_acc: 0.0241\n",
      "Epoch 49/150\n",
      "5478/5478 [==============================] - 159s 29ms/step - loss: 3.5654 - acc: 0.0783 - val_loss: 5.3654 - val_acc: 0.0248\n",
      "Epoch 50/150\n",
      "5478/5478 [==============================] - 157s 29ms/step - loss: 3.5232 - acc: 0.0832 - val_loss: 5.2707 - val_acc: 0.0343\n",
      "Epoch 51/150\n",
      "5478/5478 [==============================] - 161s 29ms/step - loss: 3.5263 - acc: 0.0858 - val_loss: 5.3008 - val_acc: 0.0234\n",
      "Epoch 52/150\n",
      "5478/5478 [==============================] - 163s 30ms/step - loss: 3.4322 - acc: 0.0856 - val_loss: 5.5118 - val_acc: 0.0263\n",
      "Epoch 53/150\n",
      "5478/5478 [==============================] - 159s 29ms/step - loss: 3.3712 - acc: 0.0973 - val_loss: 5.4438 - val_acc: 0.0307\n",
      "Epoch 54/150\n",
      "5478/5478 [==============================] - 161s 29ms/step - loss: 3.3663 - acc: 0.0969 - val_loss: 5.5004 - val_acc: 0.0285\n",
      "Epoch 55/150\n",
      "5478/5478 [==============================] - 160s 29ms/step - loss: 3.2973 - acc: 0.0931 - val_loss: 5.6614 - val_acc: 0.0292\n",
      "Epoch 56/150\n",
      "5478/5478 [==============================] - 161s 29ms/step - loss: 3.2731 - acc: 0.1121 - val_loss: 5.7090 - val_acc: 0.0307\n",
      "Epoch 57/150\n",
      "5478/5478 [==============================] - 161s 29ms/step - loss: 3.1997 - acc: 0.1086 - val_loss: 6.2973 - val_acc: 0.0285\n",
      "Epoch 58/150\n",
      "5478/5478 [==============================] - 161s 29ms/step - loss: 3.2253 - acc: 0.1126 - val_loss: 5.6178 - val_acc: 0.0336\n",
      "Epoch 59/150\n",
      "5478/5478 [==============================] - 162s 30ms/step - loss: 3.1824 - acc: 0.1170 - val_loss: 5.7204 - val_acc: 0.0285\n",
      "Epoch 60/150\n",
      "5478/5478 [==============================] - 165s 30ms/step - loss: 3.0826 - acc: 0.1344 - val_loss: 5.8660 - val_acc: 0.0394\n",
      "Epoch 61/150\n",
      "5478/5478 [==============================] - 161s 29ms/step - loss: 3.0745 - acc: 0.1318 - val_loss: 5.9799 - val_acc: 0.0248\n",
      "Epoch 62/150\n",
      "5478/5478 [==============================] - 158s 29ms/step - loss: 3.0301 - acc: 0.1409 - val_loss: 6.3246 - val_acc: 0.0270\n",
      "Epoch 63/150\n",
      "5478/5478 [==============================] - 160s 29ms/step - loss: 3.0093 - acc: 0.1411 - val_loss: 6.0951 - val_acc: 0.0321\n",
      "Epoch 64/150\n",
      "5478/5478 [==============================] - 160s 29ms/step - loss: 3.0253 - acc: 0.1422 - val_loss: 6.0765 - val_acc: 0.0314\n",
      "Epoch 65/150\n",
      "5478/5478 [==============================] - 162s 30ms/step - loss: 2.9599 - acc: 0.1501 - val_loss: 6.3595 - val_acc: 0.0328\n",
      "Epoch 66/150\n",
      "5478/5478 [==============================] - 159s 29ms/step - loss: 2.9108 - acc: 0.1566 - val_loss: 6.3648 - val_acc: 0.0394\n",
      "Epoch 67/150\n",
      "5478/5478 [==============================] - 159s 29ms/step - loss: 2.8678 - acc: 0.1610 - val_loss: 6.3074 - val_acc: 0.0358\n",
      "Epoch 68/150\n",
      "5478/5478 [==============================] - 163s 30ms/step - loss: 2.8602 - acc: 0.1643 - val_loss: 6.4493 - val_acc: 0.0307\n",
      "Epoch 69/150\n",
      "5478/5478 [==============================] - 157s 29ms/step - loss: 2.7866 - acc: 0.1672 - val_loss: 6.4724 - val_acc: 0.0328\n",
      "Epoch 70/150\n",
      "5478/5478 [==============================] - 153s 28ms/step - loss: 2.7601 - acc: 0.1833 - val_loss: 6.7413 - val_acc: 0.0285\n",
      "Epoch 71/150\n",
      "5478/5478 [==============================] - 152s 28ms/step - loss: 2.7107 - acc: 0.1833 - val_loss: 6.6684 - val_acc: 0.0358\n",
      "Epoch 72/150\n",
      "5478/5478 [==============================] - 148s 27ms/step - loss: 2.6494 - acc: 0.1889 - val_loss: 6.7127 - val_acc: 0.0358\n",
      "Epoch 73/150\n",
      "5478/5478 [==============================] - 150s 27ms/step - loss: 2.6441 - acc: 0.2043 - val_loss: 6.7786 - val_acc: 0.0343\n",
      "Epoch 74/150\n",
      "5478/5478 [==============================] - 150s 27ms/step - loss: 2.6789 - acc: 0.1895 - val_loss: 6.7282 - val_acc: 0.0255\n",
      "Epoch 75/150\n",
      "5478/5478 [==============================] - 151s 28ms/step - loss: 2.6354 - acc: 0.2057 - val_loss: 6.8499 - val_acc: 0.0336\n",
      "Epoch 76/150\n",
      "5478/5478 [==============================] - 152s 28ms/step - loss: 2.5730 - acc: 0.2001 - val_loss: 7.0590 - val_acc: 0.0328\n",
      "Epoch 77/150\n",
      "5478/5478 [==============================] - 151s 28ms/step - loss: 2.5567 - acc: 0.2136 - val_loss: 6.9717 - val_acc: 0.0255\n",
      "Epoch 78/150\n",
      "5478/5478 [==============================] - 150s 27ms/step - loss: 2.5216 - acc: 0.2240 - val_loss: 7.1229 - val_acc: 0.0314\n",
      "Epoch 79/150\n",
      "5478/5478 [==============================] - 150s 27ms/step - loss: 2.5260 - acc: 0.2149 - val_loss: 7.0745 - val_acc: 0.0372\n",
      "Epoch 80/150\n",
      "5478/5478 [==============================] - 150s 27ms/step - loss: 2.4661 - acc: 0.2382 - val_loss: 7.1331 - val_acc: 0.0299\n",
      "Epoch 81/150\n",
      "5478/5478 [==============================] - 150s 27ms/step - loss: 2.4284 - acc: 0.2346 - val_loss: 7.3782 - val_acc: 0.0328\n",
      "Epoch 82/150\n",
      "5478/5478 [==============================] - 150s 27ms/step - loss: 2.4018 - acc: 0.2455 - val_loss: 7.1436 - val_acc: 0.0321\n",
      "Epoch 83/150\n",
      "5478/5478 [==============================] - 154s 28ms/step - loss: 2.3911 - acc: 0.2475 - val_loss: 7.2136 - val_acc: 0.0350\n",
      "Epoch 84/150\n",
      "5478/5478 [==============================] - 150s 27ms/step - loss: 2.3552 - acc: 0.2525 - val_loss: 7.3568 - val_acc: 0.0270\n",
      "Epoch 85/150\n",
      "5478/5478 [==============================] - 150s 27ms/step - loss: 2.3511 - acc: 0.2539 - val_loss: 7.5848 - val_acc: 0.0336\n",
      "Epoch 86/150\n",
      "5478/5478 [==============================] - 150s 27ms/step - loss: 2.3360 - acc: 0.2576 - val_loss: 7.4008 - val_acc: 0.0292\n",
      "Epoch 87/150\n",
      "5478/5478 [==============================] - 150s 27ms/step - loss: 2.2916 - acc: 0.2731 - val_loss: 7.5340 - val_acc: 0.0285\n",
      "Epoch 88/150\n",
      "5478/5478 [==============================] - 150s 27ms/step - loss: 2.2932 - acc: 0.2641 - val_loss: 7.4820 - val_acc: 0.0380\n",
      "Epoch 89/150\n",
      "5478/5478 [==============================] - 151s 28ms/step - loss: 2.2313 - acc: 0.2800 - val_loss: 7.6292 - val_acc: 0.0292\n",
      "Epoch 90/150\n",
      "5478/5478 [==============================] - 150s 27ms/step - loss: 2.1932 - acc: 0.2954 - val_loss: 7.7471 - val_acc: 0.0299\n",
      "Epoch 91/150\n",
      "5478/5478 [==============================] - 152s 28ms/step - loss: 2.2030 - acc: 0.2831 - val_loss: 7.8547 - val_acc: 0.0343\n",
      "Epoch 92/150\n",
      "5478/5478 [==============================] - 150s 27ms/step - loss: 2.1902 - acc: 0.2917 - val_loss: 8.0890 - val_acc: 0.0350\n",
      "Epoch 93/150\n",
      "5478/5478 [==============================] - 150s 27ms/step - loss: 2.1630 - acc: 0.2954 - val_loss: 7.6848 - val_acc: 0.0328\n",
      "Epoch 94/150\n",
      "5478/5478 [==============================] - 150s 27ms/step - loss: 2.1299 - acc: 0.3032 - val_loss: 7.8197 - val_acc: 0.0285\n",
      "Epoch 95/150\n",
      "5478/5478 [==============================] - 150s 27ms/step - loss: 2.1174 - acc: 0.3145 - val_loss: 7.9849 - val_acc: 0.0314\n",
      "Epoch 96/150\n",
      "5478/5478 [==============================] - 151s 28ms/step - loss: 2.0541 - acc: 0.3253 - val_loss: 8.2101 - val_acc: 0.0307\n",
      "Epoch 97/150\n",
      "5478/5478 [==============================] - 150s 27ms/step - loss: 2.0816 - acc: 0.3244 - val_loss: 8.0024 - val_acc: 0.0299\n",
      "Epoch 98/150\n",
      "5478/5478 [==============================] - 150s 27ms/step - loss: 2.0342 - acc: 0.3310 - val_loss: 8.1520 - val_acc: 0.0343\n",
      "Epoch 99/150\n",
      "5478/5478 [==============================] - 150s 27ms/step - loss: 2.0039 - acc: 0.3381 - val_loss: 8.3746 - val_acc: 0.0328\n",
      "Epoch 100/150\n",
      "5478/5478 [==============================] - 150s 27ms/step - loss: 1.9781 - acc: 0.3419 - val_loss: 8.6330 - val_acc: 0.0358\n",
      "Epoch 101/150\n",
      "5478/5478 [==============================] - 150s 27ms/step - loss: 1.9613 - acc: 0.3452 - val_loss: 8.1402 - val_acc: 0.0474\n",
      "Epoch 102/150\n",
      "5478/5478 [==============================] - 152s 28ms/step - loss: 1.9499 - acc: 0.3523 - val_loss: 8.2241 - val_acc: 0.0350\n",
      "Epoch 103/150\n",
      "5478/5478 [==============================] - 150s 27ms/step - loss: 1.9283 - acc: 0.3611 - val_loss: 8.3805 - val_acc: 0.0314\n",
      "Epoch 104/150\n",
      "5478/5478 [==============================] - 149s 27ms/step - loss: 1.8794 - acc: 0.3697 - val_loss: 8.4936 - val_acc: 0.0277\n",
      "Epoch 105/150\n",
      "5478/5478 [==============================] - 149s 27ms/step - loss: 1.8934 - acc: 0.3560 - val_loss: 8.6960 - val_acc: 0.0321\n",
      "Epoch 106/150\n",
      "5478/5478 [==============================] - 150s 27ms/step - loss: 1.8726 - acc: 0.3788 - val_loss: 8.7807 - val_acc: 0.0314\n",
      "Epoch 107/150\n",
      "5478/5478 [==============================] - 152s 28ms/step - loss: 1.8964 - acc: 0.3693 - val_loss: 8.4367 - val_acc: 0.0307\n",
      "Epoch 108/150\n",
      "5478/5478 [==============================] - 150s 27ms/step - loss: 1.8003 - acc: 0.3815 - val_loss: 8.6671 - val_acc: 0.0314\n",
      "Epoch 109/150\n",
      "5478/5478 [==============================] - 151s 28ms/step - loss: 1.7974 - acc: 0.3921 - val_loss: 8.6860 - val_acc: 0.0263\n",
      "Epoch 110/150\n",
      "5478/5478 [==============================] - 150s 27ms/step - loss: 1.7814 - acc: 0.3965 - val_loss: 8.6161 - val_acc: 0.0401\n",
      "Epoch 111/150\n",
      "5478/5478 [==============================] - 150s 27ms/step - loss: 1.8154 - acc: 0.3921 - val_loss: 8.8072 - val_acc: 0.0321\n",
      "Epoch 112/150\n",
      "5478/5478 [==============================] - 150s 27ms/step - loss: 1.7890 - acc: 0.4012 - val_loss: 8.8101 - val_acc: 0.0365\n",
      "Epoch 113/150\n",
      "5478/5478 [==============================] - 150s 27ms/step - loss: 1.7520 - acc: 0.4047 - val_loss: 8.8112 - val_acc: 0.0453\n",
      "Epoch 114/150\n",
      "5478/5478 [==============================] - 149s 27ms/step - loss: 1.7715 - acc: 0.4042 - val_loss: 8.6484 - val_acc: 0.0343\n",
      "Epoch 115/150\n",
      "5478/5478 [==============================] - 151s 28ms/step - loss: 1.7093 - acc: 0.4166 - val_loss: 8.9433 - val_acc: 0.0314\n",
      "Epoch 116/150\n",
      "5478/5478 [==============================] - 151s 28ms/step - loss: 1.7128 - acc: 0.4233 - val_loss: 8.9756 - val_acc: 0.0328\n",
      "Epoch 117/150\n",
      "5478/5478 [==============================] - 151s 28ms/step - loss: 1.6936 - acc: 0.4261 - val_loss: 9.2920 - val_acc: 0.0234\n"
     ]
    },
    {
     "name": "stdout",
     "output_type": "stream",
     "text": [
      "Epoch 118/150\n",
      "5478/5478 [==============================] - 151s 27ms/step - loss: 1.6960 - acc: 0.4339 - val_loss: 9.0022 - val_acc: 0.0358\n",
      "Epoch 119/150\n",
      "5478/5478 [==============================] - 150s 27ms/step - loss: 1.6982 - acc: 0.4304 - val_loss: 8.9325 - val_acc: 0.0285\n",
      "Epoch 120/150\n",
      "5478/5478 [==============================] - 150s 27ms/step - loss: 1.6537 - acc: 0.4461 - val_loss: 9.0482 - val_acc: 0.0409\n",
      "Epoch 121/150\n",
      "5478/5478 [==============================] - 150s 27ms/step - loss: 1.6802 - acc: 0.4388 - val_loss: 9.1909 - val_acc: 0.0314\n",
      "Epoch 122/150\n",
      "5478/5478 [==============================] - 151s 28ms/step - loss: 1.6543 - acc: 0.4438 - val_loss: 9.0749 - val_acc: 0.0328\n",
      "Epoch 123/150\n",
      "5478/5478 [==============================] - 151s 28ms/step - loss: 1.5961 - acc: 0.4571 - val_loss: 9.0089 - val_acc: 0.0365\n",
      "Epoch 124/150\n",
      "5478/5478 [==============================] - 150s 27ms/step - loss: 1.5900 - acc: 0.4620 - val_loss: 9.1830 - val_acc: 0.0336\n",
      "Epoch 125/150\n",
      "5478/5478 [==============================] - 151s 28ms/step - loss: 1.6355 - acc: 0.4496 - val_loss: 9.2269 - val_acc: 0.0307\n",
      "Epoch 126/150\n",
      "5478/5478 [==============================] - 150s 27ms/step - loss: 1.5473 - acc: 0.4737 - val_loss: 9.3742 - val_acc: 0.0307\n",
      "Epoch 127/150\n",
      "5478/5478 [==============================] - 149s 27ms/step - loss: 1.5430 - acc: 0.4814 - val_loss: 9.3637 - val_acc: 0.0365\n",
      "Epoch 128/150\n",
      "5478/5478 [==============================] - 150s 27ms/step - loss: 1.5316 - acc: 0.4684 - val_loss: 9.4078 - val_acc: 0.0328\n",
      "Epoch 129/150\n",
      "5478/5478 [==============================] - 151s 28ms/step - loss: 1.5413 - acc: 0.4805 - val_loss: 9.2832 - val_acc: 0.0336\n",
      "Epoch 130/150\n",
      "5478/5478 [==============================] - 150s 27ms/step - loss: 1.5372 - acc: 0.4812 - val_loss: 9.0947 - val_acc: 0.0372\n",
      "Epoch 131/150\n",
      "5478/5478 [==============================] - 152s 28ms/step - loss: 1.5345 - acc: 0.4923 - val_loss: 9.4157 - val_acc: 0.0226\n",
      "Epoch 132/150\n",
      "5478/5478 [==============================] - 150s 27ms/step - loss: 1.5120 - acc: 0.5005 - val_loss: 9.3021 - val_acc: 0.0321\n",
      "Epoch 133/150\n",
      "5478/5478 [==============================] - 149s 27ms/step - loss: 1.4549 - acc: 0.4949 - val_loss: 9.5216 - val_acc: 0.0307\n",
      "Epoch 134/150\n",
      "5478/5478 [==============================] - 149s 27ms/step - loss: 1.4538 - acc: 0.5093 - val_loss: 9.6263 - val_acc: 0.0277\n",
      "Epoch 135/150\n",
      "5478/5478 [==============================] - 150s 27ms/step - loss: 1.4625 - acc: 0.4989 - val_loss: 9.5127 - val_acc: 0.0336\n",
      "Epoch 136/150\n",
      "5478/5478 [==============================] - 151s 27ms/step - loss: 1.4079 - acc: 0.5199 - val_loss: 9.4799 - val_acc: 0.0358\n",
      "Epoch 137/150\n",
      "5478/5478 [==============================] - 150s 27ms/step - loss: 1.4436 - acc: 0.5089 - val_loss: 9.7830 - val_acc: 0.0387\n",
      "Epoch 138/150\n",
      "5478/5478 [==============================] - 150s 27ms/step - loss: 1.4144 - acc: 0.5159 - val_loss: 9.6255 - val_acc: 0.0299\n",
      "Epoch 139/150\n",
      "5478/5478 [==============================] - 150s 27ms/step - loss: 1.4145 - acc: 0.5261 - val_loss: 9.5951 - val_acc: 0.0387\n",
      "Epoch 140/150\n",
      "5478/5478 [==============================] - 150s 27ms/step - loss: 1.4245 - acc: 0.5113 - val_loss: 9.6220 - val_acc: 0.0285\n",
      "Epoch 141/150\n",
      "5478/5478 [==============================] - 150s 27ms/step - loss: 1.4110 - acc: 0.5172 - val_loss: 9.4126 - val_acc: 0.0307\n",
      "Epoch 142/150\n",
      "5478/5478 [==============================] - 151s 28ms/step - loss: 1.3536 - acc: 0.5413 - val_loss: 9.6966 - val_acc: 0.0336\n",
      "Epoch 143/150\n",
      "5478/5478 [==============================] - 150s 27ms/step - loss: 1.3563 - acc: 0.5389 - val_loss: 9.8762 - val_acc: 0.0409\n",
      "Epoch 144/150\n",
      "5478/5478 [==============================] - 149s 27ms/step - loss: 1.3914 - acc: 0.5257 - val_loss: 9.8394 - val_acc: 0.0292\n",
      "Epoch 145/150\n",
      "5478/5478 [==============================] - 150s 27ms/step - loss: 1.3329 - acc: 0.5447 - val_loss: 9.7610 - val_acc: 0.0314\n",
      "Epoch 146/150\n",
      "5478/5478 [==============================] - 149s 27ms/step - loss: 1.4002 - acc: 0.5288 - val_loss: 9.6871 - val_acc: 0.0307\n",
      "Epoch 147/150\n",
      "5478/5478 [==============================] - 150s 27ms/step - loss: 1.3286 - acc: 0.5420 - val_loss: 9.8415 - val_acc: 0.0358\n",
      "Epoch 148/150\n",
      "5478/5478 [==============================] - 151s 28ms/step - loss: 1.2740 - acc: 0.5613 - val_loss: 9.9925 - val_acc: 0.0299\n",
      "Epoch 149/150\n",
      "5478/5478 [==============================] - 150s 27ms/step - loss: 1.3237 - acc: 0.5511 - val_loss: 9.9819 - val_acc: 0.0292\n",
      "Epoch 150/150\n",
      "5478/5478 [==============================] - 150s 27ms/step - loss: 1.3285 - acc: 0.5500 - val_loss: 9.8507 - val_acc: 0.0380\n"
     ]
    }
   ],
   "source": [
    "H=model.fit(X_train, y_train,\n",
    "          batch_size=128,\n",
    "          epochs=150,\n",
    "          validation_split = 0.2)"
   ]
  },
  {
   "cell_type": "code",
   "execution_count": 58,
   "metadata": {},
   "outputs": [
    {
     "data": {
      "text/plain": [
       "<matplotlib.legend.Legend at 0x275166f1940>"
      ]
     },
     "execution_count": 58,
     "metadata": {},
     "output_type": "execute_result"
    },
    {
     "data": {
      "image/png": "[encoded data removed]",
      "text/plain": [
       "<matplotlib.figure.Figure at 0x276012f44a8>"
      ]
     },
     "metadata": {},
     "output_type": "display_data"
    }
   ],
   "source": [
    "# plot the training loss and accuracy\n",
    "plt.style.use(\"ggplot\")\n",
    "plt.figure()\n",
    "N = 150\n",
    "plt.plot(np.arange(0, N), H.history[\"loss\"], label=\"train_loss\")\n",
    "plt.plot(np.arange(0, N), H.history[\"val_loss\"], label=\"val_loss\")\n",
    "plt.title(\"Training Loss\")\n",
    "plt.xlabel(\"Epoch #\")\n",
    "plt.ylabel(\"Loss\")\n",
    "plt.legend(loc=\"upper left\")\n"
   ]
  },
  {
   "cell_type": "code",
   "execution_count": 59,
   "metadata": {},
   "outputs": [
    {
     "data": {
      "text/plain": [
       "<matplotlib.legend.Legend at 0x27516373748>"
      ]
     },
     "execution_count": 59,
     "metadata": {},
     "output_type": "execute_result"
    },
    {
     "data": {
      "image/png": "[encoded data removed]",
      "text/plain": [
       "<matplotlib.figure.Figure at 0x276012f40f0>"
      ]
     },
     "metadata": {},
     "output_type": "display_data"
    }
   ],
   "source": [
    "plt.plot(np.arange(0, N), H.history[\"acc\"], label=\"train_acc\")\n",
    "plt.plot(np.arange(0, N), H.history[\"val_acc\"], label=\"val_acc\")\n",
    "plt.title(\"Training Accuracy\")\n",
    "plt.xlabel(\"Epoch #\")\n",
    "plt.ylabel(\"Accuracy\")\n",
    "plt.legend(loc=\"upper left\")\n"
   ]
  },
  {
   "cell_type": "code",
   "execution_count": null,
   "metadata": {},
   "outputs": [],
   "source": []
  },
  {
   "cell_type": "markdown",
   "metadata": {
    "collapsed": true
   },
   "source": [
    "# Recignition"
   ]
  },
  {
   "cell_type": "code",
   "execution_count": 32,
   "metadata": {},
   "outputs": [],
   "source": []
  },
  {
   "cell_type": "code",
   "execution_count": 29,
   "metadata": {},
   "outputs": [],
   "source": [
    "dataX=labels['ImgData']"
   ]
  },
  {
   "cell_type": "code",
   "execution_count": 30,
   "metadata": {},
   "outputs": [],
   "source": [
    "dataY=labels['breed']"
   ]
  },
  {
   "cell_type": "code",
   "execution_count": null,
   "metadata": {},
   "outputs": [],
   "source": []
  },
  {
   "cell_type": "code",
   "execution_count": 33,
   "metadata": {},
   "outputs": [],
   "source": [
    "X_train, X_test, y_train, y_test = train_test_split(dataX, dataY, test_size=0.33, random_state=42)"
   ]
  },
  {
   "cell_type": "code",
   "execution_count": 34,
   "metadata": {},
   "outputs": [],
   "source": [
    "from sklearn.svm import SVC"
   ]
  },
  {
   "cell_type": "code",
   "execution_count": 36,
   "metadata": {},
   "outputs": [],
   "source": [
    "est=SVC()"
   ]
  },
  {
   "cell_type": "code",
   "execution_count": null,
   "metadata": {},
   "outputs": [],
   "source": [
    "est.fit(X_train,y_train)"
   ]
  },
  {
   "cell_type": "code",
   "execution_count": null,
   "metadata": {
    "collapsed": true
   },
   "outputs": [],
   "source": [
    "espredict=est.predict(X_test)"
   ]
  },
  {
   "cell_type": "code",
   "execution_count": null,
   "metadata": {
    "collapsed": true
   },
   "outputs": [],
   "source": [
    "from sklearn.metrics import confusion_matrix,classification_report"
   ]
  }
 ],
 "metadata": {
  "kernelspec": {
   "display_name": "Python 3",
   "language": "python",
   "name": "python3"
  },
  "language_info": {
   "codemirror_mode": {
    "name": "ipython",
    "version": 3
   },
   "file_extension": ".py",
   "mimetype": "text/x-python",
   "name": "python",
   "nbconvert_exporter": "python",
   "pygments_lexer": "ipython3",
   "version": "3.6.5"
  }
 },
 "nbformat": 4,
 "nbformat_minor": 2
}
